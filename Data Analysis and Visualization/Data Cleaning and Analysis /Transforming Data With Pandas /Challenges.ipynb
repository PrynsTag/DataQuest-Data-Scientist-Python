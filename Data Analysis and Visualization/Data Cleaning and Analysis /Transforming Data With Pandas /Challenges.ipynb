{
 "cells": [
  {
   "cell_type": "markdown",
   "metadata": {
    "collapsed": true
   },
   "source": [
    "# Data Cleaning and Analysis\n",
    "## Transforming Data With Pandas\n",
    "In this mission, we learned how to transform data using the Series.map(), Series.apply(), DataFrame.apply(), and DataFrame.applymap() methods along with the pd.melt() function. Below is a summary chart of the differences between the map(), apply(), and applymap() methods:\n",
    "\n",
    "| Method   | Series or Dataframe Method | Applies Functions Element-wise?     |\n",
    "|----------|----------------------------|-------------------------------------|\n",
    "| Map      | Series                     | Yes                                 |\n",
    "| Apply    | Series                     | Yes                                 |\n",
    "| Applymap | Dataframe                  | Yes                                 |\n",
    "| Apply    | Dataframe                  | No, applies functions along an axis |\n",
    "\n",
    "As you explore pandas, you'll also find that pandas has a method to \"un-melt\" the data, or transform rows into columns. This method is called the df.pivot() method, not to be confused with the df.pivot_table() method used to aggregate data. Although we couldn't cover the df.pivot() method explicitly in this mission, we encourage you to explore it on your own.\n",
    "\n",
    "In the next mission, we'll learn how to manipulate strings in pandas as we continue building on what we've learned so far."
   ]
  },
  {
   "cell_type": "markdown",
   "metadata": {
    "heading_collapsed": true
   },
   "source": [
    "### Initial Setup"
   ]
  },
  {
   "cell_type": "markdown",
   "metadata": {
    "hidden": true
   },
   "source": [
    "#### Import Statements"
   ]
  },
  {
   "cell_type": "code",
   "execution_count": 1,
   "metadata": {
    "ExecuteTime": {
     "end_time": "2021-01-03T09:48:57.557272Z",
     "start_time": "2021-01-03T09:48:57.145845Z"
    },
    "hidden": true
   },
   "outputs": [],
   "source": [
    "import numpy as np\n",
    "import pandas as pd\n",
    "import matplotlib.pyplot as plt"
   ]
  },
  {
   "cell_type": "markdown",
   "metadata": {
    "hidden": true
   },
   "source": [
    "#### Stylistics"
   ]
  },
  {
   "cell_type": "code",
   "execution_count": 2,
   "metadata": {
    "ExecuteTime": {
     "end_time": "2021-01-03T09:48:57.563367Z",
     "start_time": "2021-01-03T09:48:57.558754Z"
    },
    "hidden": true
   },
   "outputs": [],
   "source": [
    "%matplotlib inline\n",
    "plt.style.use(\"dark_background\")\n",
    "pd.set_option(\"display.max_rows\", 500)\n",
    "pd.set_option(\"display.max_columns\", 500)\n",
    "pd.set_option(\"display.width\", 1000)"
   ]
  },
  {
   "cell_type": "markdown",
   "metadata": {
    "hidden": true
   },
   "source": [
    "#### Importing Dataset"
   ]
  },
  {
   "cell_type": "code",
   "execution_count": 3,
   "metadata": {
    "ExecuteTime": {
     "end_time": "2021-01-03T09:48:57.655030Z",
     "start_time": "2021-01-03T09:48:57.565933Z"
    },
    "hidden": true
   },
   "outputs": [],
   "source": [
    "happiness2015 = pd.read_csv(\"../datasets/World_Happiness_2015.csv\")"
   ]
  },
  {
   "cell_type": "markdown",
   "metadata": {
    "heading_collapsed": true
   },
   "source": [
    "### Introduction\n",
    "Recall that the 2015 World Happiness Report is saved to a variable named happiness2015. We also created a dictionary named mapping for renaming columns.\n",
    "\n",
    "- Use the DataFrame.rename() method to change the 'Economy (GDP per Capita)', 'Health (Life Expectancy)', and 'Trust (Government Corruption)' column names to the names specified in the mapping dictionary.\n",
    "    - Pass the mapping dictionary into the df.rename() method and set the axis parameter to 1.\n",
    "    - Assign the result back to happiness2015."
   ]
  },
  {
   "cell_type": "code",
   "execution_count": 5,
   "metadata": {
    "ExecuteTime": {
     "end_time": "2021-01-03T09:49:04.236198Z",
     "start_time": "2021-01-03T09:49:04.232666Z"
    },
    "hidden": true
   },
   "outputs": [],
   "source": [
    "mapping = {'Economy (GDP per Capita)': 'Economy', 'Health (Life Expectancy)': 'Health', 'Trust (Government Corruption)': 'Trust' }\n",
    "\n",
    "happiness2015.rename(mapping, axis=1, inplace=True)"
   ]
  },
  {
   "cell_type": "markdown",
   "metadata": {
    "heading_collapsed": true
   },
   "source": [
    "### Apply a Function Element-wise Using the Map and Apply Methods\n",
    "- Use the Series.map() method to apply the label function to the Economy column in happiness2015. Assign the result to economy_impact_map.\n",
    "- Use the Series.apply() method to apply the function to the Economy column. Assign the result to economy_impact_apply.\n",
    "- Use the following code to check if the methods produce the same result: economy_impact_map.equals(economy_impact_apply). Assign the result to a variable named equal."
   ]
  },
  {
   "cell_type": "code",
   "execution_count": 6,
   "metadata": {
    "ExecuteTime": {
     "end_time": "2021-01-03T09:54:45.834918Z",
     "start_time": "2021-01-03T09:54:45.829955Z"
    },
    "hidden": true
   },
   "outputs": [],
   "source": [
    "def label(element):\n",
    "    if element > 1:\n",
    "        return 'High'\n",
    "    else:\n",
    "        return 'Low'\n",
    "\n",
    "economy_impact_map = happiness2015[\"Economy\"].map(label)\n",
    "economy_impact_apply = happiness2015[\"Economy\"].apply(label)\n",
    "equal = economy_impact_map.equals(economy_impact_apply)"
   ]
  },
  {
   "cell_type": "markdown",
   "metadata": {
    "heading_collapsed": true
   },
   "source": [
    "### Apply a Function Element-wise Using the Map and Apply Methods Continued\n",
    "- Update label to take in another argument named x. If the element is greater than x, return 'High'. Otherwise, return 'Low'.\n",
    "- Then, use the apply method to apply label to the Economy column and set the x argument to 0.8. Save the result back to economy_impact_apply."
   ]
  },
  {
   "cell_type": "code",
   "execution_count": 10,
   "metadata": {
    "ExecuteTime": {
     "end_time": "2021-01-03T10:00:22.508539Z",
     "start_time": "2021-01-03T10:00:22.504577Z"
    },
    "hidden": true
   },
   "outputs": [],
   "source": [
    "def label(element, x):\n",
    "    if element > x:\n",
    "        return 'High'\n",
    "    else:\n",
    "        return 'Low'\n",
    "economy_impact_apply = happiness2015['Economy'].apply(label, x = 0.8)"
   ]
  },
  {
   "cell_type": "markdown",
   "metadata": {
    "heading_collapsed": true
   },
   "source": [
    "### Apply a Function Element-wise to Multiple Columns Using Applymap Method\n",
    "We've already created a list named factors containing the column names for the six factors that contribute to the happiness score.\n",
    "\n",
    "- Use the df.applymap() method to apply the label function to the columns saved in factors in happiness2015. Assign the result to factors_impact."
   ]
  },
  {
   "cell_type": "code",
   "execution_count": 16,
   "metadata": {
    "ExecuteTime": {
     "end_time": "2021-01-03T10:05:06.953031Z",
     "start_time": "2021-01-03T10:05:06.941570Z"
    },
    "hidden": true
   },
   "outputs": [
    {
     "ename": "TypeError",
     "evalue": "label() missing 1 required positional argument: 'x'",
     "output_type": "error",
     "traceback": [
      "\u001b[0;31m---------------------------------------------------------------------------\u001b[0m",
      "\u001b[0;31mTypeError\u001b[0m                                 Traceback (most recent call last)",
      "\u001b[0;32m<ipython-input-16-03193792fb79>\u001b[0m in \u001b[0;36m<module>\u001b[0;34m\u001b[0m\n\u001b[1;32m      4\u001b[0m     \u001b[0;32melse\u001b[0m\u001b[0;34m:\u001b[0m\u001b[0;34m\u001b[0m\u001b[0;34m\u001b[0m\u001b[0m\n\u001b[1;32m      5\u001b[0m         \u001b[0;32mreturn\u001b[0m \u001b[0;34m'Low'\u001b[0m\u001b[0;34m\u001b[0m\u001b[0;34m\u001b[0m\u001b[0m\n\u001b[0;32m----> 6\u001b[0;31m \u001b[0meconomy_apply\u001b[0m \u001b[0;34m=\u001b[0m \u001b[0mhappiness2015\u001b[0m\u001b[0;34m[\u001b[0m\u001b[0;34m'Economy'\u001b[0m\u001b[0;34m]\u001b[0m\u001b[0;34m.\u001b[0m\u001b[0mapply\u001b[0m\u001b[0;34m(\u001b[0m\u001b[0mlabel\u001b[0m\u001b[0;34m)\u001b[0m\u001b[0;34m\u001b[0m\u001b[0;34m\u001b[0m\u001b[0m\n\u001b[0m\u001b[1;32m      7\u001b[0m \u001b[0mfactors\u001b[0m \u001b[0;34m=\u001b[0m \u001b[0;34m[\u001b[0m\u001b[0;34m'Economy'\u001b[0m\u001b[0;34m,\u001b[0m \u001b[0;34m'Family'\u001b[0m\u001b[0;34m,\u001b[0m \u001b[0;34m'Health'\u001b[0m\u001b[0;34m,\u001b[0m \u001b[0;34m'Freedom'\u001b[0m\u001b[0;34m,\u001b[0m \u001b[0;34m'Trust'\u001b[0m\u001b[0;34m,\u001b[0m \u001b[0;34m'Generosity'\u001b[0m\u001b[0;34m]\u001b[0m\u001b[0;34m\u001b[0m\u001b[0;34m\u001b[0m\u001b[0m\n\u001b[1;32m      8\u001b[0m \u001b[0;34m\u001b[0m\u001b[0m\n",
      "\u001b[0;32m~/.local/lib/python3.8/site-packages/pandas/core/series.py\u001b[0m in \u001b[0;36mapply\u001b[0;34m(self, func, convert_dtype, args, **kwds)\u001b[0m\n\u001b[1;32m   4211\u001b[0m             \u001b[0;32melse\u001b[0m\u001b[0;34m:\u001b[0m\u001b[0;34m\u001b[0m\u001b[0;34m\u001b[0m\u001b[0m\n\u001b[1;32m   4212\u001b[0m                 \u001b[0mvalues\u001b[0m \u001b[0;34m=\u001b[0m \u001b[0mself\u001b[0m\u001b[0;34m.\u001b[0m\u001b[0mastype\u001b[0m\u001b[0;34m(\u001b[0m\u001b[0mobject\u001b[0m\u001b[0;34m)\u001b[0m\u001b[0;34m.\u001b[0m\u001b[0m_values\u001b[0m\u001b[0;34m\u001b[0m\u001b[0;34m\u001b[0m\u001b[0m\n\u001b[0;32m-> 4213\u001b[0;31m                 \u001b[0mmapped\u001b[0m \u001b[0;34m=\u001b[0m \u001b[0mlib\u001b[0m\u001b[0;34m.\u001b[0m\u001b[0mmap_infer\u001b[0m\u001b[0;34m(\u001b[0m\u001b[0mvalues\u001b[0m\u001b[0;34m,\u001b[0m \u001b[0mf\u001b[0m\u001b[0;34m,\u001b[0m \u001b[0mconvert\u001b[0m\u001b[0;34m=\u001b[0m\u001b[0mconvert_dtype\u001b[0m\u001b[0;34m)\u001b[0m\u001b[0;34m\u001b[0m\u001b[0;34m\u001b[0m\u001b[0m\n\u001b[0m\u001b[1;32m   4214\u001b[0m \u001b[0;34m\u001b[0m\u001b[0m\n\u001b[1;32m   4215\u001b[0m         \u001b[0;32mif\u001b[0m \u001b[0mlen\u001b[0m\u001b[0;34m(\u001b[0m\u001b[0mmapped\u001b[0m\u001b[0;34m)\u001b[0m \u001b[0;32mand\u001b[0m \u001b[0misinstance\u001b[0m\u001b[0;34m(\u001b[0m\u001b[0mmapped\u001b[0m\u001b[0;34m[\u001b[0m\u001b[0;36m0\u001b[0m\u001b[0;34m]\u001b[0m\u001b[0;34m,\u001b[0m \u001b[0mSeries\u001b[0m\u001b[0;34m)\u001b[0m\u001b[0;34m:\u001b[0m\u001b[0;34m\u001b[0m\u001b[0;34m\u001b[0m\u001b[0m\n",
      "\u001b[0;32mpandas/_libs/lib.pyx\u001b[0m in \u001b[0;36mpandas._libs.lib.map_infer\u001b[0;34m()\u001b[0m\n",
      "\u001b[0;31mTypeError\u001b[0m: label() missing 1 required positional argument: 'x'"
     ]
    }
   ],
   "source": [
    "def label(element, x):\n",
    "    if element > x:\n",
    "        return 'High'\n",
    "    else:\n",
    "        return 'Low'\n",
    "economy_apply = happiness2015['Economy'].apply(label)\n",
    "factors = ['Economy', 'Family', 'Health', 'Freedom', 'Trust', 'Generosity']\n",
    "\n",
    "factors_impact = happiness2015[factors].applymap(label, x=0.6)"
   ]
  },
  {
   "cell_type": "markdown",
   "metadata": {
    "ExecuteTime": {
     "end_time": "2021-01-03T10:03:11.668544Z",
     "start_time": "2021-01-03T10:03:11.629934Z"
    },
    "heading_collapsed": true
   },
   "source": [
    "### Apply Functions along an Axis using the Apply Method\n",
    "- Create a function that calculates the percentage of 'High' and 'Low' values in each column.\n",
    "    - Create a function named v_counts that accepts one parameter called col.\n",
    "    - Use the Series.value_counts() method to calculate the value counts for col. Assign the result to num.\n",
    "    - Use the Series.size attribute to calculate the number of rows in the column. Assign the result to den.\n",
    "    - Divide num by den and return the result.\n",
    "- Use the df.apply() method to apply the v_counts function to all of the columns in factors_impact. Assign the result to v_counts_pct."
   ]
  },
  {
   "cell_type": "code",
   "execution_count": 32,
   "metadata": {
    "ExecuteTime": {
     "end_time": "2021-01-03T10:36:22.963366Z",
     "start_time": "2021-01-03T10:36:22.953385Z"
    },
    "hidden": true
   },
   "outputs": [],
   "source": [
    "def v_counts(col):\n",
    "    num = col.value_counts()\n",
    "    den = col.size\n",
    "    return (num/den)\n",
    "\n",
    "v_counts_pct = factors_impact.apply(v_counts)"
   ]
  },
  {
   "cell_type": "markdown",
   "metadata": {
    "heading_collapsed": true
   },
   "source": [
    "### Apply Functions along an Axis using the Apply Method Continued\n",
    "- Create a function that converts each of the six factor columns and the Dystopia Residual column to percentages.\n",
    "    - Create a function named percentages that accepts one parameter called col.\n",
    "    - Divide col by the Happiness Score column. Assign the result to div.\n",
    "    - Multiply div by 100 and return the result.\n",
    "- Use the df.apply() method to apply the percentages function to all of the columns in factors. Assign the result to factor_percentages."
   ]
  },
  {
   "cell_type": "code",
   "execution_count": 33,
   "metadata": {
    "ExecuteTime": {
     "end_time": "2021-01-03T10:40:46.264359Z",
     "start_time": "2021-01-03T10:40:46.254590Z"
    },
    "hidden": true
   },
   "outputs": [],
   "source": [
    "factors = ['Economy', 'Family', 'Health', 'Freedom', 'Trust', 'Generosity', 'Dystopia Residual']\n",
    "\n",
    "def percentages(col):\n",
    "    div = col / happiness2015[\"Happiness Score\"]\n",
    "    return div * 100\n",
    "\n",
    "factor_percentages = happiness2015[factors].apply(percentages)"
   ]
  },
  {
   "cell_type": "markdown",
   "metadata": {
    "heading_collapsed": true
   },
   "source": [
    "### Reshaping Data with the Melt Function\n",
    "- Use the melt function to reshape happiness2015. The columns listed in main_cols should stay the same. The columns listed in factors should be transformed into rows. Assign the result to a variable called melt.\n",
    "- Convert the value column to a percentage.\n",
    "    - Divide the value column by the Happiness Score column and multiply the result by 100.\n",
    "    - Use the round() function to round the result to 2 decimal places.\n",
    "    - Assign the result to a new column called Percentage."
   ]
  },
  {
   "cell_type": "code",
   "execution_count": 53,
   "metadata": {
    "ExecuteTime": {
     "end_time": "2021-01-03T11:15:46.070306Z",
     "start_time": "2021-01-03T11:15:46.060713Z"
    },
    "hidden": true
   },
   "outputs": [],
   "source": [
    "main_cols = ['Country', 'Region', 'Happiness Rank', 'Happiness Score']\n",
    "factors = ['Economy', 'Family', 'Health', 'Freedom', 'Trust', 'Generosity', 'Dystopia Residual']\n",
    "\n",
    "melt = pd.melt(happiness2015, id_vars=main_cols, value_vars=factors)\n",
    "melt[\"Percentage\"] = round((melt[\"value\"] / melt[\"Happiness Score\"])*100, 2)"
   ]
  },
  {
   "cell_type": "markdown",
   "metadata": {},
   "source": [
    "### Challenge: Aggregate the Data and Create a Visualization\n",
    "- Use the df.pivot_table() method to create a pivot table from the melt dataframe. Set the variable column as the index and the value column as the values. Assign the result to pv_melt.\n",
    "- Use the df.plot() method to create a pie chart of the results. Set the kind parameter to 'pie', the y parameter to 'value', and the legend parameter to False, so we can better see the results.\n",
    "- If we disregard Dystopia Residual, which two factors, on average, contribute the most to the happiness score?"
   ]
  },
  {
   "cell_type": "code",
   "execution_count": 55,
   "metadata": {
    "ExecuteTime": {
     "end_time": "2021-01-03T11:20:51.445360Z",
     "start_time": "2021-01-03T11:20:51.206728Z"
    }
   },
   "outputs": [
    {
     "data": {
      "image/png": "[encoded data removed]",
      "text/plain": [
       "<Figure size 432x288 with 1 Axes>"
      ]
     },
     "metadata": {},
     "output_type": "display_data"
    }
   ],
   "source": [
    "melt = pd.melt(happiness2015, id_vars = ['Country', 'Region', 'Happiness Rank', 'Happiness Score'], value_vars= ['Economy', 'Family', 'Health', 'Freedom', 'Trust', 'Generosity', 'Dystopia Residual'])\n",
    "melt['Percentage'] = round(melt['value']/melt['Happiness Score'] * 100, 2)\n",
    "\n",
    "pv_melt = melt.pivot_table(index=\"variable\", values=\"value\")\n",
    "_ = pv_melt.plot(kind=\"pie\", y=\"value\", legend=False)"
   ]
  }
 ],
 "metadata": {
  "kernelspec": {
   "display_name": "Python 3",
   "language": "python",
   "name": "python3"
  },
  "language_info": {
   "codemirror_mode": {
    "name": "ipython",
    "version": 3
   },
   "file_extension": ".py",
   "mimetype": "text/x-python",
   "name": "python",
   "nbconvert_exporter": "python",
   "pygments_lexer": "ipython3",
   "version": "3.8.5"
  },
  "toc": {
   "base_numbering": 1,
   "nav_menu": {},
   "number_sections": true,
   "sideBar": true,
   "skip_h1_title": false,
   "title_cell": "Table of Contents",
   "title_sidebar": "Contents",
   "toc_cell": false,
   "toc_position": {},
   "toc_section_display": true,
   "toc_window_display": false
  }
 },
 "nbformat": 4,
 "nbformat_minor": 1
}
