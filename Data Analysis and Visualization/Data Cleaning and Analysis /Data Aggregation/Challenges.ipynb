{
 "cells": [
  {
   "cell_type": "markdown",
   "metadata": {
    "collapsed": true
   },
   "source": [
    "# Data Cleaning and Analysis\n",
    "## Data Aggregation\n",
    "In this mission, we learned how to use the groupby operation and the df.pivot_table() method for aggregation. In the next mission, we'll learn how to combine data sets using the pd.concat() and pd.merge() functions.\n",
    "### Introduction to the Data\n",
    "- Use the pd.read_csv() function to read the World_Happiness_2015.csv file into a dataframe called happiness2015.\n",
    "- Store the first five rows of the dataframe in a variable called first_5.\n",
    "- Use the DataFrame.info() method to print information about the dataframe.\n",
    "- After you have run your code, use the variable inspector to look at the variable first_5 and the output to get familiar with the data."
   ]
  },
  {
   "cell_type": "markdown",
   "metadata": {
    "heading_collapsed": true
   },
   "source": [
    "### Import Statements"
   ]
  },
  {
   "cell_type": "code",
   "execution_count": 1,
   "metadata": {
    "ExecuteTime": {
     "end_time": "2021-01-01T10:14:19.693949Z",
     "start_time": "2021-01-01T10:14:19.371157Z"
    },
    "hidden": true
   },
   "outputs": [],
   "source": [
    "import numpy as np\n",
    "import pandas as pd\n",
    "import matplotlib.pyplot as plt"
   ]
  },
  {
   "cell_type": "markdown",
   "metadata": {},
   "source": [
    "### Read the Dataset"
   ]
  },
  {
   "cell_type": "code",
   "execution_count": 2,
   "metadata": {
    "ExecuteTime": {
     "end_time": "2021-01-01T10:14:19.699682Z",
     "start_time": "2021-01-01T10:14:19.695303Z"
    }
   },
   "outputs": [],
   "source": [
    "happiness2015 = pd.read_csv(\"../datasets/World_Happiness_2015.csv\")"
   ]
  },
  {
   "cell_type": "markdown",
   "metadata": {
    "heading_collapsed": true
   },
   "source": [
    "### Stylistics"
   ]
  },
  {
   "cell_type": "code",
   "execution_count": 3,
   "metadata": {
    "ExecuteTime": {
     "end_time": "2021-01-01T10:14:19.802468Z",
     "start_time": "2021-01-01T10:14:19.701401Z"
    },
    "hidden": true
   },
   "outputs": [],
   "source": [
    "%matplotlib inline\n",
    "plt.style.use(\"dark_background\")\n",
    "pd.set_option(\"display.max_rows\", 500)\n",
    "pd.set_option(\"display.max_columns\", 500)\n",
    "pd.set_option(\"display.width\", 1000)"
   ]
  },
  {
   "cell_type": "markdown",
   "metadata": {
    "heading_collapsed": true
   },
   "source": [
    "### Explore the Dataset"
   ]
  },
  {
   "cell_type": "code",
   "execution_count": 4,
   "metadata": {
    "ExecuteTime": {
     "end_time": "2021-01-01T10:14:19.898771Z",
     "start_time": "2021-01-01T10:14:19.804559Z"
    },
    "hidden": true
   },
   "outputs": [
    {
     "data": {
      "text/html": [
       "<div>\n",
       "<style scoped>\n",
       "    .dataframe tbody tr th:only-of-type {\n",
       "        vertical-align: middle;\n",
       "    }\n",
       "\n",
       "    .dataframe tbody tr th {\n",
       "        vertical-align: top;\n",
       "    }\n",
       "\n",
       "    .dataframe thead th {\n",
       "        text-align: right;\n",
       "    }\n",
       "</style>\n",
       "<table border=\"1\" class=\"dataframe\">\n",
       "  <thead>\n",
       "    <tr style=\"text-align: right;\">\n",
       "      <th></th>\n",
       "      <th>Country</th>\n",
       "      <th>Region</th>\n",
       "      <th>Happiness Rank</th>\n",
       "      <th>Happiness Score</th>\n",
       "      <th>Standard Error</th>\n",
       "      <th>Economy (GDP per Capita)</th>\n",
       "      <th>Family</th>\n",
       "      <th>Health (Life Expectancy)</th>\n",
       "      <th>Freedom</th>\n",
       "      <th>Trust (Government Corruption)</th>\n",
       "      <th>Generosity</th>\n",
       "      <th>Dystopia Residual</th>\n",
       "    </tr>\n",
       "  </thead>\n",
       "  <tbody>\n",
       "    <tr>\n",
       "      <th>0</th>\n",
       "      <td>Switzerland</td>\n",
       "      <td>Western Europe</td>\n",
       "      <td>1</td>\n",
       "      <td>7.587</td>\n",
       "      <td>0.03411</td>\n",
       "      <td>1.39651</td>\n",
       "      <td>1.34951</td>\n",
       "      <td>0.94143</td>\n",
       "      <td>0.66557</td>\n",
       "      <td>0.41978</td>\n",
       "      <td>0.29678</td>\n",
       "      <td>2.51738</td>\n",
       "    </tr>\n",
       "    <tr>\n",
       "      <th>1</th>\n",
       "      <td>Iceland</td>\n",
       "      <td>Western Europe</td>\n",
       "      <td>2</td>\n",
       "      <td>7.561</td>\n",
       "      <td>0.04884</td>\n",
       "      <td>1.30232</td>\n",
       "      <td>1.40223</td>\n",
       "      <td>0.94784</td>\n",
       "      <td>0.62877</td>\n",
       "      <td>0.14145</td>\n",
       "      <td>0.43630</td>\n",
       "      <td>2.70201</td>\n",
       "    </tr>\n",
       "    <tr>\n",
       "      <th>2</th>\n",
       "      <td>Denmark</td>\n",
       "      <td>Western Europe</td>\n",
       "      <td>3</td>\n",
       "      <td>7.527</td>\n",
       "      <td>0.03328</td>\n",
       "      <td>1.32548</td>\n",
       "      <td>1.36058</td>\n",
       "      <td>0.87464</td>\n",
       "      <td>0.64938</td>\n",
       "      <td>0.48357</td>\n",
       "      <td>0.34139</td>\n",
       "      <td>2.49204</td>\n",
       "    </tr>\n",
       "    <tr>\n",
       "      <th>3</th>\n",
       "      <td>Norway</td>\n",
       "      <td>Western Europe</td>\n",
       "      <td>4</td>\n",
       "      <td>7.522</td>\n",
       "      <td>0.03880</td>\n",
       "      <td>1.45900</td>\n",
       "      <td>1.33095</td>\n",
       "      <td>0.88521</td>\n",
       "      <td>0.66973</td>\n",
       "      <td>0.36503</td>\n",
       "      <td>0.34699</td>\n",
       "      <td>2.46531</td>\n",
       "    </tr>\n",
       "    <tr>\n",
       "      <th>4</th>\n",
       "      <td>Canada</td>\n",
       "      <td>North America</td>\n",
       "      <td>5</td>\n",
       "      <td>7.427</td>\n",
       "      <td>0.03553</td>\n",
       "      <td>1.32629</td>\n",
       "      <td>1.32261</td>\n",
       "      <td>0.90563</td>\n",
       "      <td>0.63297</td>\n",
       "      <td>0.32957</td>\n",
       "      <td>0.45811</td>\n",
       "      <td>2.45176</td>\n",
       "    </tr>\n",
       "  </tbody>\n",
       "</table>\n",
       "</div>"
      ],
      "text/plain": [
       "       Country          Region  Happiness Rank  Happiness Score  Standard Error  Economy (GDP per Capita)   Family  Health (Life Expectancy)  Freedom  Trust (Government Corruption)  Generosity  Dystopia Residual\n",
       "0  Switzerland  Western Europe               1            7.587         0.03411                   1.39651  1.34951                   0.94143  0.66557                        0.41978     0.29678            2.51738\n",
       "1      Iceland  Western Europe               2            7.561         0.04884                   1.30232  1.40223                   0.94784  0.62877                        0.14145     0.43630            2.70201\n",
       "2      Denmark  Western Europe               3            7.527         0.03328                   1.32548  1.36058                   0.87464  0.64938                        0.48357     0.34139            2.49204\n",
       "3       Norway  Western Europe               4            7.522         0.03880                   1.45900  1.33095                   0.88521  0.66973                        0.36503     0.34699            2.46531\n",
       "4       Canada   North America               5            7.427         0.03553                   1.32629  1.32261                   0.90563  0.63297                        0.32957     0.45811            2.45176"
      ]
     },
     "execution_count": 4,
     "metadata": {},
     "output_type": "execute_result"
    }
   ],
   "source": [
    "first_5 = happiness2015.head()\n",
    "first_5"
   ]
  },
  {
   "cell_type": "code",
   "execution_count": 5,
   "metadata": {
    "ExecuteTime": {
     "end_time": "2021-01-01T10:14:20.024884Z",
     "start_time": "2021-01-01T10:14:19.900588Z"
    },
    "hidden": true
   },
   "outputs": [
    {
     "data": {
      "text/html": [
       "<div>\n",
       "<style scoped>\n",
       "    .dataframe tbody tr th:only-of-type {\n",
       "        vertical-align: middle;\n",
       "    }\n",
       "\n",
       "    .dataframe tbody tr th {\n",
       "        vertical-align: top;\n",
       "    }\n",
       "\n",
       "    .dataframe thead th {\n",
       "        text-align: right;\n",
       "    }\n",
       "</style>\n",
       "<table border=\"1\" class=\"dataframe\">\n",
       "  <thead>\n",
       "    <tr style=\"text-align: right;\">\n",
       "      <th></th>\n",
       "      <th>Country</th>\n",
       "      <th>Region</th>\n",
       "      <th>Happiness Rank</th>\n",
       "      <th>Happiness Score</th>\n",
       "      <th>Standard Error</th>\n",
       "      <th>Economy (GDP per Capita)</th>\n",
       "      <th>Family</th>\n",
       "      <th>Health (Life Expectancy)</th>\n",
       "      <th>Freedom</th>\n",
       "      <th>Trust (Government Corruption)</th>\n",
       "      <th>Generosity</th>\n",
       "      <th>Dystopia Residual</th>\n",
       "    </tr>\n",
       "  </thead>\n",
       "  <tbody>\n",
       "    <tr>\n",
       "      <th>153</th>\n",
       "      <td>Rwanda</td>\n",
       "      <td>Sub-Saharan Africa</td>\n",
       "      <td>154</td>\n",
       "      <td>3.465</td>\n",
       "      <td>0.03464</td>\n",
       "      <td>0.22208</td>\n",
       "      <td>0.77370</td>\n",
       "      <td>0.42864</td>\n",
       "      <td>0.59201</td>\n",
       "      <td>0.55191</td>\n",
       "      <td>0.22628</td>\n",
       "      <td>0.67042</td>\n",
       "    </tr>\n",
       "    <tr>\n",
       "      <th>154</th>\n",
       "      <td>Benin</td>\n",
       "      <td>Sub-Saharan Africa</td>\n",
       "      <td>155</td>\n",
       "      <td>3.340</td>\n",
       "      <td>0.03656</td>\n",
       "      <td>0.28665</td>\n",
       "      <td>0.35386</td>\n",
       "      <td>0.31910</td>\n",
       "      <td>0.48450</td>\n",
       "      <td>0.08010</td>\n",
       "      <td>0.18260</td>\n",
       "      <td>1.63328</td>\n",
       "    </tr>\n",
       "    <tr>\n",
       "      <th>155</th>\n",
       "      <td>Syria</td>\n",
       "      <td>Middle East and Northern Africa</td>\n",
       "      <td>156</td>\n",
       "      <td>3.006</td>\n",
       "      <td>0.05015</td>\n",
       "      <td>0.66320</td>\n",
       "      <td>0.47489</td>\n",
       "      <td>0.72193</td>\n",
       "      <td>0.15684</td>\n",
       "      <td>0.18906</td>\n",
       "      <td>0.47179</td>\n",
       "      <td>0.32858</td>\n",
       "    </tr>\n",
       "    <tr>\n",
       "      <th>156</th>\n",
       "      <td>Burundi</td>\n",
       "      <td>Sub-Saharan Africa</td>\n",
       "      <td>157</td>\n",
       "      <td>2.905</td>\n",
       "      <td>0.08658</td>\n",
       "      <td>0.01530</td>\n",
       "      <td>0.41587</td>\n",
       "      <td>0.22396</td>\n",
       "      <td>0.11850</td>\n",
       "      <td>0.10062</td>\n",
       "      <td>0.19727</td>\n",
       "      <td>1.83302</td>\n",
       "    </tr>\n",
       "    <tr>\n",
       "      <th>157</th>\n",
       "      <td>Togo</td>\n",
       "      <td>Sub-Saharan Africa</td>\n",
       "      <td>158</td>\n",
       "      <td>2.839</td>\n",
       "      <td>0.06727</td>\n",
       "      <td>0.20868</td>\n",
       "      <td>0.13995</td>\n",
       "      <td>0.28443</td>\n",
       "      <td>0.36453</td>\n",
       "      <td>0.10731</td>\n",
       "      <td>0.16681</td>\n",
       "      <td>1.56726</td>\n",
       "    </tr>\n",
       "  </tbody>\n",
       "</table>\n",
       "</div>"
      ],
      "text/plain": [
       "     Country                           Region  Happiness Rank  Happiness Score  Standard Error  Economy (GDP per Capita)   Family  Health (Life Expectancy)  Freedom  Trust (Government Corruption)  Generosity  Dystopia Residual\n",
       "153   Rwanda               Sub-Saharan Africa             154            3.465         0.03464                   0.22208  0.77370                   0.42864  0.59201                        0.55191     0.22628            0.67042\n",
       "154    Benin               Sub-Saharan Africa             155            3.340         0.03656                   0.28665  0.35386                   0.31910  0.48450                        0.08010     0.18260            1.63328\n",
       "155    Syria  Middle East and Northern Africa             156            3.006         0.05015                   0.66320  0.47489                   0.72193  0.15684                        0.18906     0.47179            0.32858\n",
       "156  Burundi               Sub-Saharan Africa             157            2.905         0.08658                   0.01530  0.41587                   0.22396  0.11850                        0.10062     0.19727            1.83302\n",
       "157     Togo               Sub-Saharan Africa             158            2.839         0.06727                   0.20868  0.13995                   0.28443  0.36453                        0.10731     0.16681            1.56726"
      ]
     },
     "execution_count": 5,
     "metadata": {},
     "output_type": "execute_result"
    }
   ],
   "source": [
    "happiness2015.tail()"
   ]
  },
  {
   "cell_type": "code",
   "execution_count": 6,
   "metadata": {
    "ExecuteTime": {
     "end_time": "2021-01-01T10:14:20.117285Z",
     "start_time": "2021-01-01T10:14:20.026341Z"
    },
    "hidden": true
   },
   "outputs": [
    {
     "name": "stdout",
     "output_type": "stream",
     "text": [
      "<class 'pandas.core.frame.DataFrame'>\n",
      "RangeIndex: 158 entries, 0 to 157\n",
      "Data columns (total 12 columns):\n",
      " #   Column                         Non-Null Count  Dtype  \n",
      "---  ------                         --------------  -----  \n",
      " 0   Country                        158 non-null    object \n",
      " 1   Region                         158 non-null    object \n",
      " 2   Happiness Rank                 158 non-null    int64  \n",
      " 3   Happiness Score                158 non-null    float64\n",
      " 4   Standard Error                 158 non-null    float64\n",
      " 5   Economy (GDP per Capita)       158 non-null    float64\n",
      " 6   Family                         158 non-null    float64\n",
      " 7   Health (Life Expectancy)       158 non-null    float64\n",
      " 8   Freedom                        158 non-null    float64\n",
      " 9   Trust (Government Corruption)  158 non-null    float64\n",
      " 10  Generosity                     158 non-null    float64\n",
      " 11  Dystopia Residual              158 non-null    float64\n",
      "dtypes: float64(9), int64(1), object(2)\n",
      "memory usage: 14.9+ KB\n"
     ]
    }
   ],
   "source": [
    "happiness2015.info()"
   ]
  },
  {
   "cell_type": "markdown",
   "metadata": {
    "heading_collapsed": true
   },
   "source": [
    "### Using Loops to Aggregate Data\n",
    "- Create an empty dictionary named mean_happiness to store the results of this exercise.\n",
    "- Use the Series.unique() method to create an array of unique values for the Region column.\n",
    "- Use a for loop to iterate over the unique region values from the Region column.\n",
    "    - Assign the rows belonging to the current region to a variable named region_group.\n",
    "    - Use the Series.mean() method to calculate the mean happiness score for region_group.\n",
    "    - Assign the mean value to the mean_happiness dictionary, using the region name as the key and the mean happiness score as the value."
   ]
  },
  {
   "cell_type": "code",
   "execution_count": 7,
   "metadata": {
    "ExecuteTime": {
     "end_time": "2021-01-01T10:14:20.192928Z",
     "start_time": "2021-01-01T10:14:20.119143Z"
    },
    "hidden": true
   },
   "outputs": [],
   "source": [
    "mean_happiness = {}\n",
    "\n",
    "for region in happiness2015[\"Region\"].unique():\n",
    "    region_group = happiness2015[happiness2015[\"Region\"] == region]\n",
    "    mean_happiness[region] = region_group[\"Happiness Score\"].mean()"
   ]
  },
  {
   "cell_type": "markdown",
   "metadata": {
    "ExecuteTime": {
     "end_time": "2020-12-30T04:50:24.368782Z",
     "start_time": "2020-12-30T04:50:24.357510Z"
    },
    "heading_collapsed": true
   },
   "source": [
    "### Creating GroupBy Objects\n",
    "- Use the df.groupby() method to group happiness2015 by the Region column. Assign the result to grouped.\n",
    "- Use the GroupBy.get_group() method to select the data for the Australia and New Zealand group only. Assign the result to aus_nz."
   ]
  },
  {
   "cell_type": "code",
   "execution_count": 8,
   "metadata": {
    "ExecuteTime": {
     "end_time": "2021-01-01T10:14:20.260827Z",
     "start_time": "2021-01-01T10:14:20.194707Z"
    },
    "hidden": true
   },
   "outputs": [],
   "source": [
    "grouped = happiness2015.groupby(\"Region\")\n",
    "aus_nz = grouped.get_group(\"Australia and New Zealand\")"
   ]
  },
  {
   "cell_type": "markdown",
   "metadata": {
    "heading_collapsed": true
   },
   "source": [
    "### Exploring GroupBy Objects\n",
    "For the following exercise, use the result from the dictionary returned by grouped.groups shown below:\n",
    "\n",
    "`'North America': Int64Index([4, 14], dtype='int64'`\n",
    "- Prove that the values for the 'North America' group in the dictionary returned by grouped.groups above correspond to countries in North America in the happiness2015 dataframe.\n",
    "    - Use the snippet above to identify the indexes of the countries in happiness2015 that belong to the North America group.\n",
    "    - Use the indexes to assign just the countries in North America in happiness2015 to north_america.\n",
    "- Use the GroupBy.get_group() method to select the data for the North America group only. Assign the result to na_group.\n",
    "- Use the following code to compare north_america and na_group: north_america == na_group. Assign the result to equal."
   ]
  },
  {
   "cell_type": "code",
   "execution_count": 9,
   "metadata": {
    "ExecuteTime": {
     "end_time": "2021-01-01T10:14:20.337945Z",
     "start_time": "2021-01-01T10:14:20.262736Z"
    },
    "hidden": true
   },
   "outputs": [],
   "source": [
    "grouped = happiness2015.groupby('Region')\n",
    "north_america = happiness2015.iloc[[4, 14]]\n",
    "na_group = grouped.get_group(\"North America\")\n",
    "equal = north_america == na_group"
   ]
  },
  {
   "cell_type": "markdown",
   "metadata": {
    "heading_collapsed": true
   },
   "source": [
    "### Common Aggregation Methods with Groupby\n",
    "- Apply the GroupBy.mean() method to grouped. Assign the result to means.\n"
   ]
  },
  {
   "cell_type": "code",
   "execution_count": 10,
   "metadata": {
    "ExecuteTime": {
     "end_time": "2021-01-01T10:14:20.433058Z",
     "start_time": "2021-01-01T10:14:20.339673Z"
    },
    "hidden": true
   },
   "outputs": [],
   "source": [
    "grouped = happiness2015.groupby('Region')\n",
    "means = grouped.mean()"
   ]
  },
  {
   "cell_type": "markdown",
   "metadata": {
    "heading_collapsed": true
   },
   "source": [
    "### Aggregating Specific Columns with Groupby\n",
    "- Select just the Happiness Score column from grouped. Assign the result to happy_grouped.\n",
    "- Use the GroupBy.mean() method to compute the mean of happy_grouped. Assign the result to happy_mean."
   ]
  },
  {
   "cell_type": "code",
   "execution_count": 11,
   "metadata": {
    "ExecuteTime": {
     "end_time": "2021-01-01T10:14:20.502656Z",
     "start_time": "2021-01-01T10:14:20.434887Z"
    },
    "hidden": true,
    "pycharm": {
     "name": "#%%\n"
    }
   },
   "outputs": [],
   "source": [
    "grouped = happiness2015.groupby('Region')\n",
    "happy_grouped = grouped[\"Happiness Score\"]\n",
    "happy_mean = happy_grouped.mean()"
   ]
  },
  {
   "cell_type": "markdown",
   "metadata": {
    "heading_collapsed": true
   },
   "source": [
    "### Introduction to the Agg() Method\n",
    "- Apply the GroupBy.agg() method to happy_grouped. Pass a list containing np.mean and np.max into the method. Assign the result to happy_mean_max.\n",
    "    - As noted above, passing 'mean' and 'max' into the GroupBy.agg() method will also return the same results. However, for answer checking purposes, you'll have to use np.mean and np.max.\n",
    "- We've also created a custom function named dif to calculate the difference between the mean and maximum values. Pass dif into the GroupBy.agg() method. Assign the result to mean_max_dif."
   ]
  },
  {
   "cell_type": "code",
   "execution_count": 12,
   "metadata": {
    "ExecuteTime": {
     "end_time": "2021-01-01T10:14:20.607082Z",
     "start_time": "2021-01-01T10:14:20.504311Z"
    },
    "hidden": true,
    "pycharm": {
     "name": "#%%\n"
    }
   },
   "outputs": [],
   "source": [
    "grouped = happiness2015.groupby('Region')\n",
    "happy_grouped = grouped['Happiness Score']\n",
    "def dif(group):\n",
    "    return (group.max() - group.mean())\n",
    "\n",
    "happy_mean_max = happy_grouped.agg([np.mean, np.max])\n",
    "mean_max_dif = happy_grouped.agg(dif)"
   ]
  },
  {
   "cell_type": "markdown",
   "metadata": {
    "heading_collapsed": true
   },
   "source": [
    "### Computing Multiple and Custom Aggregations with the Agg() Method\n",
    "- Inspect the following code: happiness_means = happiness2015.groupby('Region')['Happiness Score'].mean().\n",
    "    - If we run the code above, will the index of happiness_means be the unique values in the Region column or the Happiness Score column?\n",
    "    - Will the values aggregated in happiness_means be the values from the Region column or the Happiness Score column?\n",
    "    - Print happiness_means. Were your predictions correct?"
   ]
  },
  {
   "cell_type": "code",
   "execution_count": 13,
   "metadata": {
    "ExecuteTime": {
     "end_time": "2021-01-01T10:14:20.677570Z",
     "start_time": "2021-01-01T10:14:20.608331Z"
    },
    "hidden": true,
    "pycharm": {
     "name": "#%%\n"
    }
   },
   "outputs": [],
   "source": [
    "happiness_means = happiness2015.groupby('Region')['Happiness Score'].mean()"
   ]
  },
  {
   "cell_type": "markdown",
   "metadata": {},
   "source": [
    "### Aggregation with Pivot Tables\n",
    "We've already updated pv_happiness by setting the margins parameter equal to True.\n",
    "\n",
    "- Plot the resulting dataframe, pv_happiness, using the df.plot() method. Set kind to barh, xlim to (0,10), title to 'Mean Happiness Scores by Region', and legend to False. What do you notice about this results?\n",
    "- Calculate the mean of the Happiness Score column in the original happiness 2015 data set. Assign the result to world_mean_happiness.\n",
    "- Does world_mean_happiness equal the value for the All group? If you can't figure out the answer, don't worry! We'll review this question on the next screen."
   ]
  },
  {
   "cell_type": "code",
   "execution_count": 14,
   "metadata": {
    "ExecuteTime": {
     "end_time": "2021-01-01T10:14:20.865917Z",
     "start_time": "2021-01-01T10:14:20.679174Z"
    },
    "pycharm": {
     "name": "#%%\n"
    }
   },
   "outputs": [
    {
     "data": {
      "image/png": "[encoded data removed]",
      "text/plain": [
       "<Figure size 432x288 with 1 Axes>"
      ]
     },
     "metadata": {},
     "output_type": "display_data"
    }
   ],
   "source": [
    "pv_happiness = happiness2015.pivot_table(values='Happiness Score', index='Region', aggfunc=np.mean, margins=True)\n",
    "pv_happiness.plot(kind=\"barh\", xlim=(0, 10), title=\"Mean Happiness Scores by Region\", legend=False)\n",
    "world_mean_happiness = happiness2015[\"Happiness Score\"].mean()"
   ]
  },
  {
   "cell_type": "markdown",
   "metadata": {
    "pycharm": {
     "name": "#%% md\n"
    }
   },
   "source": [
    "### Aggregating Multiple Columns and Functions with Pivot Tables\n",
    "- Use the df.groupby() method to calculate the minimum, maximum, and mean family and happiness scores for each region in happiness2015.\n",
    "    - Group happiness2015 by the Region column.\n",
    "    - Select the Happiness Score and Family columns. Assign the result to grouped.\n",
    "    - Apply the GroupBy.agg() method to grouped. Pass a list containing np.min, np.max, and np.mean into the method.\n",
    "    - Assign the result to happy_family_stats.\n",
    "- Use the pivot_table method to return the same information, but also calculate the the minimum, maximum, and mean for the entire Family and Happiness Score columns.\n",
    "    - The aggregation columns should be Happiness Score and Family.\n",
    "    - The column to group by is Region.\n",
    "    - The aggregation functions are np.min, np.max, and np.mean.\n",
    "    - Set the margins parameter equal to True.\n",
    "    - Assign the result to pv_happy_family_stats."
   ]
  },
  {
   "cell_type": "code",
   "execution_count": 15,
   "metadata": {
    "ExecuteTime": {
     "end_time": "2021-01-01T10:14:20.908152Z",
     "start_time": "2021-01-01T10:14:20.867773Z"
    },
    "pycharm": {
     "name": "#%%\n"
    }
   },
   "outputs": [],
   "source": [
    "grouped = happiness2015.groupby(\"Region\")[[\"Happiness Score\", \"Family\"]]\n",
    "happy_family_stats = grouped.agg([np.min, np.max, np.mean])\n",
    "\n",
    "pv_happy_family_stats = happiness2015.pivot_table([\"Happiness Score\", \"Family\"], \"Region\", aggfunc=[np.min, np.max, np.mean], margins=True)"
   ]
  }
 ],
 "metadata": {
  "kernelspec": {
   "display_name": "Python 3",
   "language": "python",
   "name": "python3"
  },
  "language_info": {
   "codemirror_mode": {
    "name": "ipython",
    "version": 3
   },
   "file_extension": ".py",
   "mimetype": "text/x-python",
   "name": "python",
   "nbconvert_exporter": "python",
   "pygments_lexer": "ipython3",
   "version": "3.8.5"
  },
  "toc": {
   "base_numbering": 1,
   "nav_menu": {},
   "number_sections": true,
   "sideBar": true,
   "skip_h1_title": false,
   "title_cell": "Table of Contents",
   "title_sidebar": "Contents",
   "toc_cell": false,
   "toc_position": {},
   "toc_section_display": true,
   "toc_window_display": false
  }
 },
 "nbformat": 4,
 "nbformat_minor": 1
}