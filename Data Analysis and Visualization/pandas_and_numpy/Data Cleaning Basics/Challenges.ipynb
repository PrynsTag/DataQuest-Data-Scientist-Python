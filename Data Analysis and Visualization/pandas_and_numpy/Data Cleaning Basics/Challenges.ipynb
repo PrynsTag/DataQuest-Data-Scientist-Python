{
 "cells": [
  {
   "cell_type": "markdown",
   "metadata": {
    "collapsed": true,
    "pycharm": {
     "name": "#%% md\n"
    }
   },
   "source": [
    "# Pandas and NumPy Fundamentals\n",
    "## Data Cleaning Basics\n",
    "\n",
    "Our dataset is ready for some analysis, but there are still some data cleaning tasks left! Here are your next steps:\n",
    "\n",
    "Convert the price_euros column to a numeric dtype.\n",
    "Extract the screen resolution from the screen column.\n",
    "Extract the processor speed from the cpu column.\n",
    "Here are some questions you might like to answer in your own time by analyzing the cleaned data:\n",
    "\n",
    "Are laptops made by Apple more expensive than those made by other manufacturers?\n",
    "What is the best value laptop with a screen size of 15\" or more?\n",
    "Which laptop has the most storage space?\n",
    "The final mission in our course is a guided project, where we'll put everything together to clean and analyze a dataset using pandas!\n",
    "\n",
    "### Reading CSV Files with Encodings\n",
    "1. Import the pandas library\n",
    "2. Use the pandas.read_csv() function to read the laptops.csv file into a dataframe laptops.\n",
    "    - Specify the encoding using the string \"Latin-1\".\n",
    "3. Use the DataFrame.info() method to display information about the laptops dataframe."
   ]
  },
  {
   "cell_type": "code",
   "execution_count": 1,
   "metadata": {
    "pycharm": {
     "name": "#%%\n"
    }
   },
   "outputs": [
    {
     "name": "stdout",
     "output_type": "stream",
     "text": [
      "<class 'pandas.core.frame.DataFrame'>\n",
      "RangeIndex: 1303 entries, 0 to 1302\n",
      "Data columns (total 13 columns):\n",
      " #   Column                    Non-Null Count  Dtype \n",
      "---  ------                    --------------  ----- \n",
      " 0   Manufacturer              1303 non-null   object\n",
      " 1   Model Name                1303 non-null   object\n",
      " 2   Category                  1303 non-null   object\n",
      " 3   Screen Size               1303 non-null   object\n",
      " 4   Screen                    1303 non-null   object\n",
      " 5   CPU                       1303 non-null   object\n",
      " 6   RAM                       1303 non-null   object\n",
      " 7    Storage                  1303 non-null   object\n",
      " 8   GPU                       1303 non-null   object\n",
      " 9   Operating System          1303 non-null   object\n",
      " 10  Operating System Version  1133 non-null   object\n",
      " 11  Weight                    1303 non-null   object\n",
      " 12  Price (Euros)             1303 non-null   object\n",
      "dtypes: object(13)\n",
      "memory usage: 132.5+ KB\n"
     ]
    }
   ],
   "source": [
    "import pandas as pd\n",
    "\n",
    "laptops = pd.read_csv(\"../laptops.csv\", encoding=\"Latin-1\")\n",
    "laptops.info()"
   ]
  },
  {
   "cell_type": "code",
   "execution_count": 2,
   "metadata": {},
   "outputs": [
    {
     "name": "stdout",
     "output_type": "stream",
     "text": [
      "<class 'pandas.core.frame.DataFrame'>\n",
      "RangeIndex: 1303 entries, 0 to 1302\n",
      "Data columns (total 13 columns):\n",
      " #   Column                    Non-Null Count  Dtype \n",
      "---  ------                    --------------  ----- \n",
      " 0   Manufacturer              1303 non-null   object\n",
      " 1   Model Name                1303 non-null   object\n",
      " 2   Category                  1303 non-null   object\n",
      " 3   Screen Size               1303 non-null   object\n",
      " 4   Screen                    1303 non-null   object\n",
      " 5   CPU                       1303 non-null   object\n",
      " 6   RAM                       1303 non-null   object\n",
      " 7    Storage                  1303 non-null   object\n",
      " 8   GPU                       1303 non-null   object\n",
      " 9   Operating System          1303 non-null   object\n",
      " 10  Operating System Version  1133 non-null   object\n",
      " 11  Weight                    1303 non-null   object\n",
      " 12  Price (Euros)             1303 non-null   object\n",
      "dtypes: object(13)\n",
      "memory usage: 132.5+ KB\n"
     ]
    }
   ],
   "source": [
    "import pandas as pd\n",
    "\n",
    "laptops = pd.read_csv(\"../laptops.csv\", encoding=\"Latin-1\")\n",
    "laptops.info()"
   ]
  },
  {
   "cell_type": "markdown",
   "metadata": {},
   "source": [
    "### Cleaning Column Names\n",
    "1. Remove any whitespace from the start and end of each column name.\n",
    "    - Create an empty list named new_columns.\n",
    "    - Use a for loop to iterate through each column name using the DataFrame.columns attribute. Inside the body of the for loop:\n",
    "        - Use the str.strip() method to remove whitespace from the start and end of the string.\n",
    "        - Append the updated column name to the new_columns list.\n",
    "    - Assign the updated column names to the DataFrame.columns attribute."
   ]
  },
  {
   "cell_type": "code",
   "execution_count": 3,
   "metadata": {},
   "outputs": [],
   "source": [
    "new_columns = []\n",
    "\n",
    "for column_name in laptops.columns:\n",
    "    new_columns.append(column_name.strip())\n",
    "    \n",
    "laptops.columns = new_columns"
   ]
  },
  {
   "cell_type": "markdown",
   "metadata": {},
   "source": [
    "### Cleaning Column Names Continued\n",
    "1. Define a function, which accepts a string argument, and:\n",
    "    - Removes any whitespace from the start and end of the string.\n",
    "    - Replaces the substring Operating System with the abbreviation os.\n",
    "    - Replaces all spaces with underscores.\n",
    "    - Removes parentheses from the string.\n",
    "    - Makes the entire string lowercase.\n",
    "    - Returns the modified string.\n",
    "2. Use a loop to apply the function to each item in the DataFrame.columns attribute for the laptops dataframe. Assign the result back to the DataFrame.columns attribute."
   ]
  },
  {
   "cell_type": "code",
   "execution_count": 4,
   "metadata": {},
   "outputs": [],
   "source": [
    "new_column = []\n",
    "\n",
    "for column_name in laptops.columns:\n",
    "    if column_name.startswith(\"Operating System\"):\n",
    "        column_name = column_name.replace(\"Operating System\", \"os\")        \n",
    "    \n",
    "    new_column.append(column_name.strip().replace(\"(\", \"\").replace(\")\", \"\").replace(\" \", \"_\").lower())\n",
    "        \n",
    "laptops.columns = new_column"
   ]
  },
  {
   "cell_type": "markdown",
   "metadata": {},
   "source": [
    "### Converting String Columns to Numeric\n",
    "1. Use the Series.unique() method to identify the unique values in the ram column of the laptops dataframe. Assign the result to unique_ram.\n",
    "2. After running your code, use the variable inspector to view the unique values in the ram column and identify any patterns."
   ]
  },
  {
   "cell_type": "code",
   "execution_count": 5,
   "metadata": {},
   "outputs": [],
   "source": [
    "unique_ram = laptops[\"ram\"].unique()"
   ]
  },
  {
   "cell_type": "markdown",
   "metadata": {},
   "source": [
    "### Removing Non-Digit Characters\n",
    "1. Use the Series.str.replace() method to remove the substring GB from the ram column.\n",
    "2. Use the Series.unique() method to assign the unique values in the ram column to unique_ram.\n",
    "3. After running your code, use the variable inspector to verify your changes."
   ]
  },
  {
   "cell_type": "code",
   "execution_count": 6,
   "metadata": {},
   "outputs": [],
   "source": [
    "laptops[\"ram\"] = laptops[\"ram\"].str.replace(\"GB\", \"\")\n",
    "unique_ram = laptops[\"ram\"].unique()"
   ]
  },
  {
   "cell_type": "markdown",
   "metadata": {},
   "source": [
    "### Converting Columns to Numeric Dtypes\n",
    "1. Use the Series.astype() method to change the ram column to an integer dtype.\n",
    "2. Use the DataFrame.dtypes attribute to get a list of the column names and types from the laptops dataframe. Assign the result to dtypes.\n",
    "3. After running your code, use the variable inspector to view the dtypes variable to see the results of your code."
   ]
  },
  {
   "cell_type": "code",
   "execution_count": 7,
   "metadata": {},
   "outputs": [],
   "source": [
    "laptops[\"ram\"] = laptops[\"ram\"].astype(int)\n",
    "dtypes = laptops.dtypes"
   ]
  },
  {
   "cell_type": "markdown",
   "metadata": {},
   "source": [
    "### Renaming Columns\n",
    "1. Because the GB characters contained useful information about the units (gigabytes) of the laptop's ram, use the DataFrame.rename() method to rename the column from ram to ram_gb.\n",
    "2. Use the Series.describe() method to return a series of descriptive statistics for the ram_gb column. Assign the result to ram_gb_desc.\n",
    "3. After you have run your code, use the variable inspector to see the results of your code."
   ]
  },
  {
   "cell_type": "code",
   "execution_count": 8,
   "metadata": {},
   "outputs": [],
   "source": [
    "laptops.rename({\"ram\":\"ram_gb\"}, axis=1, inplace=True)\n",
    "ram_gb_desc = laptops[\"ram_gb\"].describe()"
   ]
  },
  {
   "cell_type": "markdown",
   "metadata": {},
   "source": [
    "### Extracting Values from Strings\n",
    "In the example code, we have extracted the manufacturer name from the gpu column, and assigned it to a new column gpu_manufacturer.\n",
    "\n",
    "1. Extract the manufacturer name from the cpu column. Assign it to a new column cpu_manufacturer.\n",
    "2. Use the Series.value_counts() method to find the counts of each manufacturer in cpu_manufacturer. Assign the result to cpu_manufacturer_counts."
   ]
  },
  {
   "cell_type": "code",
   "execution_count": 9,
   "metadata": {},
   "outputs": [],
   "source": [
    "laptops[\"gpu_manufacturer\"] = (laptops[\"gpu\"]\n",
    "                                       .str.split()\n",
    "                                       .str[0]\n",
    "                              )\n",
    "laptops[\"cpu_manufacturer\"] = (laptops[\"cpu\"]\n",
    "                               .str.split()\n",
    "                               .str[0]\n",
    "                              )\n",
    "cpu_manufacturer_counts = laptops[\"cpu_manufacturer\"].value_counts()"
   ]
  },
  {
   "cell_type": "markdown",
   "metadata": {},
   "source": [
    "### Correcting Bad Values\n",
    "We have created a dictionary for you to use with mapping. Note that we have included both the correct and incorrect spelling of macOS as keys, otherwise we'll end up with null values.\n",
    "\n",
    "1. Use the Series.map() method with the mapping_dict dictionary to correct the values in the os column."
   ]
  },
  {
   "cell_type": "code",
   "execution_count": 10,
   "metadata": {},
   "outputs": [],
   "source": [
    "mapping_dict = {\n",
    "    'Android': 'Android',\n",
    "    'Chrome OS': 'Chrome OS',\n",
    "    'Linux': 'Linux',\n",
    "    'Mac OS': 'macOS',\n",
    "    'No OS': 'No OS',\n",
    "    'Windows': 'Windows',\n",
    "    'macOS': 'macOS'\n",
    "}\n",
    "\n",
    "laptops[\"os\"] = laptops[\"os\"].map(mapping_dict)"
   ]
  },
  {
   "cell_type": "markdown",
   "metadata": {},
   "source": [
    "### Dropping Missing Values\n",
    "1. Use DataFrame.dropna() to remove any rows from the laptops dataframe that have null values. Assign the result to laptops_no_null_rows.\n",
    "2. Use DataFrame.dropna() to remove any columns from the laptops dataframe that have null values. Assign the result to laptops_no_null_cols."
   ]
  },
  {
   "cell_type": "code",
   "execution_count": 11,
   "metadata": {},
   "outputs": [],
   "source": [
    "laptops_no_null_rows = laptops.dropna()\n",
    "laptops_no_null_cols = laptops.dropna(axis=1)"
   ]
  },
  {
   "cell_type": "markdown",
   "metadata": {},
   "source": [
    "### Filling Missing Values\n",
    "1. Use a boolean array to identify rows that have the value No OS for the os column. Then, use assignment to assign the value Version Unknown to the os_version column for those rows.\n",
    "2. Use the syntax below to create value_counts_after variable: \n",
    "\n",
    "`value_counts_after = laptops.loc[laptops[\"os_version\"].isnull(), \"os\"].value_counts()`\n",
    "\n",
    "3. After running your code, use the variable inspector to look at the difference between value_counts_before and value_counts_after."
   ]
  },
  {
   "cell_type": "code",
   "execution_count": 12,
   "metadata": {},
   "outputs": [],
   "source": [
    "value_counts_before = laptops.loc[laptops[\"os_version\"].isnull(), \"os\"].value_counts()\n",
    "laptops.loc[laptops[\"os\"] == \"macOS\", \"os_version\"] = \"X\"\n",
    "laptops.loc[laptops[\"os\"] == \"No OS\", \"os_version\"] = \"Version Unknown\"\n",
    "value_counts_after = laptops.loc[laptops[\"os_version\"].isnull(), \"os\"].value_counts()"
   ]
  },
  {
   "cell_type": "markdown",
   "metadata": {},
   "source": [
    "### Challenge: Clean a String Column\n",
    "1. Convert the values in the weight column to numeric values.\n",
    "2. Rename the weight column to weight_kg.\n",
    "3. Use the DataFrame.to_csv() method to save the laptops dataframe to a CSV file laptops_cleaned.csv without index labels."
   ]
  },
  {
   "cell_type": "code",
   "execution_count": 13,
   "metadata": {
    "pycharm": {
     "is_executing": true
    }
   },
   "outputs": [],
   "source": [
    "laptops[\"weight\"] = laptops[\"weight\"].str.replace(\"kgs\", \"\").str.replace(\"kg\", \"\").astype(float)\n",
    "laptops.rename({\"weight\":\"weight_kg\"}, axis=1, inplace=True)\n",
    "laptops.to_csv(\"laptops_cleaned.csv\", index=False)"
   ]
  },
  {
   "cell_type": "markdown",
   "metadata": {},
   "source": [
    "### Next Steps"
   ]
  },
  {
   "cell_type": "markdown",
   "metadata": {
    "pycharm": {
     "name": "#%% md\n"
    }
   },
   "source": [
    "#### Convert the price_euros column to a numeric dtype."
   ]
  },
  {
   "cell_type": "code",
   "execution_count": 14,
   "metadata": {
    "pycharm": {
     "is_executing": true,
     "name": "#%%\n"
    }
   },
   "outputs": [],
   "source": [
    "laptops[\"price_euros\"] = laptops[\"price_euros\"].str.replace(\",\", \".\").astype(float)"
   ]
  },
  {
   "cell_type": "markdown",
   "metadata": {},
   "source": [
    "#### Extract the screen resolution from the screen column."
   ]
  },
  {
   "cell_type": "code",
   "execution_count": 15,
   "metadata": {
    "pycharm": {
     "is_executing": true,
     "name": "#%%\n"
    }
   },
   "outputs": [],
   "source": [
    "laptops[\"screen_resolution\"] = laptops[\"screen\"].str.split().str[-1]\n",
    "laptops[\"screen\"] = laptops[\"screen\"].str.split().str[:-1].str.join(\" \")\n",
    "laptops.rename({\"screen\":\"screen_specs\"}, axis=1, inplace=True)\n",
    "laptops[\"screen_size\"] = laptops[\"screen_size\"].str.replace(\"\\\"\", \"\").astype(float)"
   ]
  },
  {
   "cell_type": "code",
   "execution_count": 16,
   "metadata": {
    "pycharm": {
     "is_executing": true,
     "name": "#%%\n"
    }
   },
   "outputs": [],
   "source": [
    "laptops.loc[laptops[\"screen_specs\"].str.split().str.len() == 0, \"screen_specs\"] = \"No Information\""
   ]
  },
  {
   "cell_type": "markdown",
   "metadata": {},
   "source": [
    "#### Extract the processor speed from the cpu column."
   ]
  },
  {
   "cell_type": "code",
   "execution_count": 17,
   "metadata": {},
   "outputs": [],
   "source": [
    "laptops[\"cpu_ghz_frequency\"] = laptops[\"cpu\"].str.split().str[-1]\n",
    "laptops[\"cpu_ghz_frequency\"] = laptops[\"cpu_ghz_frequency\"].str.replace(\"GHz\", \"\").astype(float)"
   ]
  },
  {
   "cell_type": "code",
   "execution_count": 18,
   "metadata": {},
   "outputs": [],
   "source": [
    "laptops[\"cpu\"] = laptops[\"cpu\"].str.split().str[:-1].str.join(\" \")"
   ]
  },
  {
   "cell_type": "markdown",
   "metadata": {
    "pycharm": {
     "name": "#%% md\n"
    }
   },
   "source": [
    "### Analyzing Cleaned Data"
   ]
  },
  {
   "cell_type": "markdown",
   "metadata": {},
   "source": [
    "#### Are laptops made by Apple more expensive than those made by other manufacturers?"
   ]
  },
  {
   "cell_type": "code",
   "execution_count": null,
   "outputs": [],
   "source": [
    "mean_price = {}\n",
    "for brand in laptops[\"manufacturer\"].unique():\n",
    "    selected_cols = laptops[laptops[\"manufacturer\"] == brand]\n",
    "    \n",
    "    mean_price[brand] = selected_cols[\"price_euros\"].mean()\n",
    "    \n",
    "print(f'The most expensive brand in the dataset is: \"{max(mean_price, key=mean_price.get)}\", while the least expensive is: \"{min(mean_price, key=mean_price.get)}\"')"
   ],
   "metadata": {
    "collapsed": false,
    "pycharm": {
     "name": "#%%\n"
    }
   }
  },
  {
   "cell_type": "markdown",
   "source": [
    "#### What is the best value laptop with a screen size of 15\" or more?"
   ],
   "metadata": {
    "collapsed": false
   }
  },
  {
   "cell_type": "code",
   "execution_count": null,
   "outputs": [],
   "source": [
    "laptops[laptops[\"screen_size\"] >= 15.0].sort_values(by=\"price_euros\").iloc[1]"
   ],
   "metadata": {
    "collapsed": false,
    "pycharm": {
     "name": "#%%\n"
    }
   }
  },
  {
   "cell_type": "markdown",
   "source": [
    "#### Which laptop has the most storage space?"
   ],
   "metadata": {
    "collapsed": false
   }
  },
  {
   "cell_type": "code",
   "execution_count": null,
   "outputs": [],
   "source": [
    "laptops[laptops[\"storage\"].str.contains(\"1TB HDD +\")].sort_values(by=\"storage\", ascending=False)"
   ],
   "metadata": {
    "collapsed": false,
    "pycharm": {
     "name": "#%%\n"
    }
   }
  },
  {
   "cell_type": "code",
   "execution_count": 19,
   "metadata": {},
   "outputs": [
    {
     "name": "stdout",
     "output_type": "stream",
     "text": [
      "The most expensive brand in the dataset is: \"Razer\", while the least expensive is: \"Vero\"\n"
     ]
    }
   ],
   "source": [
    "laptops[laptops[\"storage\"].str.contains(\"1TB HDD +\")].sort_values(by=\"storage\", ascending=False)"
   ]
  },
  {
   "cell_type": "markdown",
   "metadata": {},
   "source": [
    "#### What is the best value laptop with a screen size of 15\" or more?"
   ]
  },
  {
   "cell_type": "code",
   "execution_count": 48,
   "metadata": {},
   "outputs": [
    {
     "data": {
      "text/plain": [
       "manufacturer                                  Acer\n",
       "model_name                           Chromebook 15\n",
       "category                                  Notebook\n",
       "screen_size                                   15.6\n",
       "screen_specs                        No Information\n",
       "cpu                  Intel Celeron Dual Core 3205U\n",
       "ram_gb                                           4\n",
       "storage                                   16GB SSD\n",
       "gpu                              Intel HD Graphics\n",
       "os                                       Chrome OS\n",
       "os_version                                     NaN\n",
       "weight_kg                                      2.2\n",
       "price_euros                                    209\n",
       "gpu_manufacturer                             Intel\n",
       "cpu_manufacturer                             Intel\n",
       "screen_resolution                         1366x768\n",
       "cpu_ghz_frequency                              1.5\n",
       "Name: 1102, dtype: object"
      ]
     },
     "execution_count": 48,
     "metadata": {},
     "output_type": "execute_result"
    }
   ],
   "source": [
    "laptops[laptops[\"screen_size\"] >= 15.0].sort_values(by=\"price_euros\").iloc[1]"
   ]
  },
  {
   "cell_type": "markdown",
   "metadata": {},
   "source": [
    "#### Which laptop has the most storage space?"
   ]
  },
  {
   "cell_type": "code",
   "execution_count": 62,
   "metadata": {},
   "outputs": [
    {
     "data": {
      "text/html": [
       "<div>\n",
       "<style scoped>\n",
       "    .dataframe tbody tr th:only-of-type {\n",
       "        vertical-align: middle;\n",
       "    }\n",
       "\n",
       "    .dataframe tbody tr th {\n",
       "        vertical-align: top;\n",
       "    }\n",
       "\n",
       "    .dataframe thead th {\n",
       "        text-align: right;\n",
       "    }\n",
       "</style>\n",
       "<table border=\"1\" class=\"dataframe\">\n",
       "  <thead>\n",
       "    <tr style=\"text-align: right;\">\n",
       "      <th></th>\n",
       "      <th>manufacturer</th>\n",
       "      <th>model_name</th>\n",
       "      <th>category</th>\n",
       "      <th>screen_size</th>\n",
       "      <th>screen_specs</th>\n",
       "      <th>cpu</th>\n",
       "      <th>ram_gb</th>\n",
       "      <th>storage</th>\n",
       "      <th>gpu</th>\n",
       "      <th>os</th>\n",
       "      <th>os_version</th>\n",
       "      <th>weight_kg</th>\n",
       "      <th>price_euros</th>\n",
       "      <th>gpu_manufacturer</th>\n",
       "      <th>cpu_manufacturer</th>\n",
       "      <th>screen_resolution</th>\n",
       "      <th>cpu_ghz_frequency</th>\n",
       "    </tr>\n",
       "  </thead>\n",
       "  <tbody>\n",
       "    <tr>\n",
       "      <th>703</th>\n",
       "      <td>Lenovo</td>\n",
       "      <td>V310-15IKB (i5-7200U/4GB/1TB/FHD/W10)</td>\n",
       "      <td>Notebook</td>\n",
       "      <td>15.6</td>\n",
       "      <td>Full HD</td>\n",
       "      <td>Intel Core i5 7200U</td>\n",
       "      <td>4</td>\n",
       "      <td>1TB HDD +  1TB HDD</td>\n",
       "      <td>Intel HD Graphics 620</td>\n",
       "      <td>Windows</td>\n",
       "      <td>10</td>\n",
       "      <td>2.1</td>\n",
       "      <td>621.45</td>\n",
       "      <td>Intel</td>\n",
       "      <td>Intel</td>\n",
       "      <td>1920x1080</td>\n",
       "      <td>2.5</td>\n",
       "    </tr>\n",
       "  </tbody>\n",
       "</table>\n",
       "</div>"
      ],
      "text/plain": [
       "    manufacturer                             model_name  category  \\\n",
       "703       Lenovo  V310-15IKB (i5-7200U/4GB/1TB/FHD/W10)  Notebook   \n",
       "\n",
       "     screen_size screen_specs                  cpu  ram_gb  \\\n",
       "703         15.6      Full HD  Intel Core i5 7200U       4   \n",
       "\n",
       "                storage                    gpu       os os_version  weight_kg  \\\n",
       "703  1TB HDD +  1TB HDD  Intel HD Graphics 620  Windows         10        2.1   \n",
       "\n",
       "     price_euros gpu_manufacturer cpu_manufacturer screen_resolution  \\\n",
       "703       621.45            Intel            Intel         1920x1080   \n",
       "\n",
       "     cpu_ghz_frequency  \n",
       "703                2.5  "
      ]
     },
     "execution_count": 62,
     "metadata": {},
     "output_type": "execute_result"
    }
   ],
   "source": [
    "laptops[laptops[\"storage\"].str.contains(\"1TB HDD +\")].sort_values(by=\"storage\", ascending=False)"
   ]
  }
 ],
 "metadata": {
  "kernelspec": {
   "display_name": "Python 3",
   "language": "python",
   "name": "python3"
  },
  "language_info": {
   "codemirror_mode": {
    "name": "ipython",
    "version": 3
   },
   "file_extension": ".py",
   "mimetype": "text/x-python",
   "name": "python",
   "nbconvert_exporter": "python",
   "pygments_lexer": "ipython3",
   "version": "3.8.5"
  }
 },
 "nbformat": 4,
 "nbformat_minor": 1
}