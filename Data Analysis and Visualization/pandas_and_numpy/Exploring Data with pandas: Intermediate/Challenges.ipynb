{
 "cells": [
  {
   "cell_type": "markdown",
   "metadata": {},
   "source": [
    "# Pandas and NumPy Fundamentals"
   ]
  },
  {
   "cell_type": "markdown",
   "metadata": {
    "collapsed": true
   },
   "source": [
    "## Exploring Data with pandas: Intermediate\n",
    "\n",
    "The table below summarizes how we can use DataFrame.iloc[] and Series.iloc[] to select by integer position:\n",
    "\n",
    "| Select by integer position      \t| Explicit Syntax    \t| Shorthand Convention \t|\n",
    "|---------------------------------\t|--------------------\t|----------------------\t|\n",
    "| Single column from dataframe    \t| df.iloc[:,3]       \t|                      \t|\n",
    "| List of columns from dataframe  \t| df.iloc[:,[3,5,6]] \t|                      \t|\n",
    "| Slice of columns from dataframe \t| df.iloc[:,3:7]     \t|                      \t|\n",
    "| Single row from dataframe       \t| df.iloc[20]        \t|                      \t|\n",
    "| List of rows from dataframe     \t| df.iloc[[0,3,8]]   \t|                      \t|\n",
    "| Slice of rows from dataframe    \t| df.iloc[3:5]       \t| df[3:5]              \t|\n",
    "| Single items from series        \t| s.iloc[8]          \t| s[8]                 \t|\n",
    "| List of item from series        \t| s.iloc[[2,8,1]]    \t| s[[2,8,1]]           \t|\n",
    "| Slice of items from series      \t| s.iloc[5:10]       \t| s[5:10]              \t|\n",
    "\n",
    "In this mission, we learned how to:\n",
    "\n",
    "- Select columns, rows and individual items using their integer location.\n",
    "- Use pd.read_csv() to read CSV files in pandas.\n",
    "- Work with integer axis labels.\n",
    "- How to use pandas methods to produce boolean arrays.\n",
    "- Use boolean operators to combine boolean comparisons to perform more complex analysis.\n",
    "- Use index labels to align data.\n",
    "- Use aggregation to perform advanced analysis using loops.\n",
    "\n",
    "In the next mission, we'll learn techniques to use when performing data cleaning to prepare a messy data set."
   ]
  },
  {
   "cell_type": "markdown",
   "metadata": {},
   "source": [
    "### Introduction\n",
    "We've already read the data set into a pandas dataframe and assigned it to a variable named f500. We also replaced all 0 values in the previous_rank column with NaN, like we did in the previous mission.\n",
    "\n",
    "1. Select the rank, revenues, and revenue_change columns in f500. Then, use the DataFrame.head() method to select the first five rows. Assign the result to f500_selection.\n",
    "2. Use the variable inspector to view f500_selection. Compare the results to the first few lines of our CSV file above.\n",
    "3. Take a look at the documentation for the pandas.read_csv() function to try to understand the results. If you have trouble understanding, don't worry! We'll explain the results on the next screen."
   ]
  },
  {
   "cell_type": "code",
   "execution_count": 1,
   "metadata": {},
   "outputs": [],
   "source": [
    "import pandas as pd\n",
    "import numpy as np\n",
    "# read the data set into a pandas dataframe\n",
    "f500 = pd.read_csv(\"../f500.csv\", index_col=0)\n",
    "f500.index.name = None\n",
    "\n",
    "# replace 0 values in the \"previous_rank\" column with NaN\n",
    "f500.loc[f500[\"previous_rank\"] == 0, \"previous_rank\"] = np.nan"
   ]
  },
  {
   "cell_type": "code",
   "execution_count": 3,
   "metadata": {},
   "outputs": [],
   "source": [
    "f500_selection = f500[[\"rank\", \"revenues\", \"revenue_change\"]].head()"
   ]
  },
  {
   "cell_type": "markdown",
   "metadata": {},
   "source": [
    "### Reading CSV files with pandas\n",
    "1. Use the `pandas.read_csv()` function to read the `f500.csv` CSV file as a pandas dataframe. Assign it to the variable name f500. Do not use the `index_col` parameter. \n",
    "2. Use the code below to insert the NaN values into the `previous_rank` column: `f500.loc[f500[\"previous_rank\"] == 0, \"previous_rank\"] = np.nan`"
   ]
  },
  {
   "cell_type": "code",
   "execution_count": 4,
   "metadata": {},
   "outputs": [
    {
     "data": {
      "text/plain": [
       "48     False\n",
       "90     False\n",
       "123    False\n",
       "138    False\n",
       "140    False\n",
       "180    False\n",
       "267    False\n",
       "271    False\n",
       "341    False\n",
       "375    False\n",
       "376    False\n",
       "392    False\n",
       "409    False\n",
       "414    False\n",
       "431    False\n",
       "440    False\n",
       "441    False\n",
       "446    False\n",
       "456    False\n",
       "458    False\n",
       "461    False\n",
       "463    False\n",
       "466    False\n",
       "472    False\n",
       "477    False\n",
       "482    False\n",
       "484    False\n",
       "487    False\n",
       "491    False\n",
       "493    False\n",
       "494    False\n",
       "495    False\n",
       "499    False\n",
       "Name: previous_rank, dtype: bool"
      ]
     },
     "execution_count": 4,
     "metadata": {},
     "output_type": "execute_result"
    }
   ],
   "source": [
    "f500 = pd.read_csv(\"../f500.csv\")\n",
    "f500.loc[f500[\"previous_rank\"] == 0, \"previous_rank\"] = np.nan"
   ]
  },
  {
   "cell_type": "markdown",
   "metadata": {},
   "source": [
    "### Using iloc to select by integer position\n",
    "1. Select just the fifth row of the f500 dataframe. Assign the result to fifth_row.\n",
    "2. Select the value in first row of the company column. Assign the result to company_value."
   ]
  },
  {
   "cell_type": "code",
   "execution_count": 6,
   "metadata": {},
   "outputs": [],
   "source": [
    "fifth_row = f500.iloc[4]\n",
    "company_value = f500.iloc[0, 0]"
   ]
  },
  {
   "cell_type": "markdown",
   "metadata": {},
   "source": [
    "### Using iloc to select by integer position continued\n",
    "1. Select the first three rows of the f500 dataframe. Assign the result to first_three_rows.\n",
    "2. Select the first and seventh rows and the first five columns of the f500 dataframe. Assign the result to first_seventh_row_slice.\n",
    "3. After running your code, use the variable inspector to examine each of the objects you created."
   ]
  },
  {
   "cell_type": "code",
   "execution_count": null,
   "metadata": {},
   "outputs": [],
   "source": [
    "first_three_rows = f500.iloc[:3]\n",
    "first_seventh_row_slice = f500.iloc[[0, 6], :5]"
   ]
  },
  {
   "cell_type": "markdown",
   "metadata": {},
   "source": [
    "### Using pandas methods to create boolean masks\n",
    "1. Use the Series.isnull() method to select all rows from f500 that have a null value for the previous_rank column. Select only the company, rank, and previous_rank columns. Assign the result to null_previous_rank."
   ]
  },
  {
   "cell_type": "code",
   "execution_count": 7,
   "metadata": {},
   "outputs": [],
   "source": [
    "null_previous_rank = f500[f500[\"previous_rank\"].isnull()][[\"company\", \"rank\", \"previous_rank\"]]"
   ]
  },
  {
   "cell_type": "markdown",
   "metadata": {},
   "source": [
    "### Working with Integer Labels\n",
    "1. Assign the first five rows of the null_previous_rank dataframe to the variable top5_null_prev_rank by choosing the correct method out of either loc[] or iloc[]."
   ]
  },
  {
   "cell_type": "code",
   "execution_count": 8,
   "metadata": {},
   "outputs": [],
   "source": [
    "top5_null_prev_rank = null_previous_rank.iloc[:5]"
   ]
  },
  {
   "cell_type": "markdown",
   "metadata": {},
   "source": [
    "### Pandas Index Alignment\n",
    "1. Use the Series.notnull() method to select all rows from f500 that have a non-null value for the previous_rank column. Assign the result to previously_ranked\n",
    "2. From the previously_ranked dataframe, subtract the rank column from the previous_rank column. Assign the result to rank_change.\n",
    "3. Assign the values in the rank_change to a new column in the f500 dataframe, \"rank_change\".\n",
    "4. Once you have run your code, use the variable inspector to look at the f500 dataframe and observe how the new column aligns with the existing data."
   ]
  },
  {
   "cell_type": "code",
   "execution_count": 10,
   "metadata": {},
   "outputs": [],
   "source": [
    "previously_ranked = f500[f500[\"previous_rank\"].notnull()]\n",
    "rank_change = previously_ranked[\"previous_rank\"] - previously_ranked[\"rank\"]\n",
    "f500[\"rank_change\"] = rank_change"
   ]
  },
  {
   "cell_type": "markdown",
   "metadata": {},
   "source": [
    "### Using Boolean Operators\n",
    "1. Select all companies with revenues over 100 billion and negative profits from the f500 dataframe. The result should include all columns.\n",
    "    - Create a boolean array that selects the companies with revenues greater than 100 billion. Assign the result to large_revenue.\n",
    "    - Create a boolean array that selects the companies with profits less than 0. Assign the result to negative_profits.\n",
    "    - Combine large_revenue and negative_profits. Assign the result to combined.\n",
    "    - Use combined to filter f500. Assign the result to big_rev_neg_profit."
   ]
  },
  {
   "cell_type": "code",
   "execution_count": 11,
   "metadata": {},
   "outputs": [],
   "source": [
    "big_rev_neg_profit = f500[(f500[\"revenues\"] > 100000) & (f500[\"profits\"] < 0)]"
   ]
  },
  {
   "cell_type": "markdown",
   "metadata": {},
   "source": [
    "### Using Boolean Operators Continued\n",
    "1. Select all rows for companies whose country value is either Brazil or Venezuela. Assign the result to brazil_venezuela.\n",
    "2. Select the first five companies in the Technology sector for which the country is not the USA from the f500 dataframe. Assign the result to tech_outside_usa."
   ]
  },
  {
   "cell_type": "code",
   "execution_count": null,
   "metadata": {},
   "outputs": [],
   "source": [
    "brazil_venezuela = f500[(f500[\"country\"] == \"Brazil\") | (f500[\"country\"] == \"Venezuela\")]\n",
    "tech_outside_usa = f500[(f500[\"country\"] != \"USA\") & (f500[\"sector\"] == \"Technology\")].head()"
   ]
  },
  {
   "cell_type": "markdown",
   "source": [
    "### Sorting Values\n",
    "1. Find the company headquartered in Japan with the largest number of employees.\n",
    "    - Select only the rows that have a country name equal to Japan.\n",
    "    - Use DataFrame.sort_values() to sort those rows by the employees column in descending order.\n",
    "    - Use DataFrame.iloc[] to select the first row from the sorted dataframe.\n",
    "    - Extract the company name from the index label company from the first row. Assign the result to top_japanese_employer.\n",
    "2. After running your code, use the variable inspector to view the top employer for Japan."
   ],
   "metadata": {
    "collapsed": false
   }
  },
  {
   "cell_type": "code",
   "execution_count": null,
   "outputs": [],
   "source": [
    "top_japanese_employer = f500[f500[\"country\"] == \"Japan\"].sort_values(by=\"employees\", ascending=False).iloc[0][\"company\"]"
   ],
   "metadata": {
    "collapsed": false,
    "pycharm": {
     "name": "#%%\n"
    }
   }
  },
  {
   "cell_type": "markdown",
   "source": [
    "### Using Loops with pandas\n",
    "In this exercise, we're going to produce the following dictionary of the top employer in each country:\n",
    "\n",
    "``` \n",
    "{'Australia': 'Wesfarmers',\n",
    " 'Belgium': 'Anheuser-Busch InBev',\n",
    " 'Brazil': 'JBS',\n",
    " ...\n",
    " 'U.A.E': 'Emirates Group',\n",
    " 'USA': 'Walmart',\n",
    " 'Venezuela': 'Mercantil Servicios Financieros'} ```\n",
    "    \n",
    "1. Create an empty dictionary, top_employer_by_country to store the results of the exercise.\n",
    "2. Use the Series.unique() method to create an array of unique values from the country column.\n",
    "3. Use a for loop to iterate over the array unique countries. In each iteration:\n",
    "    - Select only the rows that have a country name equal to the current iteration.\n",
    "    - Use DataFrame.sort_values() to sort those rows by the employees column in descending order.\n",
    "    - Select the first row from the sorted dataframe.\n",
    "    - Extract the company name from the index label company from the first row.\n",
    "    - Assign the results to the top_employer_by_country dictionary, using the country name as the key, and the company name as the value.\n",
    "4. After running your code, use the variable inspector to view the top employer for each country."
   ],
   "metadata": {
    "collapsed": false
   }
  },
  {
   "cell_type": "code",
   "execution_count": null,
   "outputs": [],
   "source": [
    "top_employer_by_country = {}\n",
    "\n",
    "for country in f500[\"country\"].unique():\n",
    "    selected_row = f500[f500[\"country\"] == country]\n",
    "    company_name = selected_row.sort_values(by=\"employees\", ascending=False).iloc[0][\"company\"]\n",
    "    top_employer_by_country[country] = company_name"
   ],
   "metadata": {
    "collapsed": false,
    "pycharm": {
     "name": "#%%\n"
    }
   }
  },
  {
   "cell_type": "markdown",
   "source": [
    "### Challenge: Calculating Return on Assets by Country\n",
    "1. Create a new column roa in the f500 dataframe, containing the return on assets metric for each company.\n",
    "2. Aggregate the data by the sector column, and create a dictionary top_roa_by_sector, with:\n",
    "    - Dictionary keys with the sector name.\n",
    "    - Dictionary values with the company name with the highest ROA value from that sector."
   ],
   "metadata": {
    "collapsed": false
   }
  },
  {
   "cell_type": "code",
   "execution_count": null,
   "outputs": [],
   "source": [
    "top_roa_by_sector = {}\n",
    "f500[\"roa\"] = f500[\"profits\"] / f500[\"assets\"]\n",
    "\n",
    "lst_sector = f500[\"sector\"].unique()\n",
    "\n",
    "for sector in lst_sector:\n",
    "    selected_row = f500[f500[\"sector\"] == sector]\n",
    "    company = selected_row.sort_values(by=\"roa\", ascending=False).iloc[0][\"company\"]\n",
    "    top_roa_by_sector[sector] = company\n",
    "    \n",
    "top_roa_by_sector"
   ],
   "metadata": {
    "collapsed": false,
    "pycharm": {
     "name": "#%%\n"
    }
   }
  },
  {
   "cell_type": "markdown",
   "metadata": {},
   "source": [
    "top_roa_by_sector = {}\n",
    "f500[\"roa\"] = f500[\"profits\"] / f500[\"assets\"]\n",
    "\n",
    "lst_sector = f500[\"sector\"].unique()\n",
    "\n",
    "for sector in lst_sector:\n",
    "    selected_row = f500[f500[\"sector\"] == sector]\n",
    "    company = selected_row.sort_values(by=\"roa\", ascending=False).iloc[0][\"company\"]\n",
    "    top_roa_by_sector[sector] = company\n",
    "    \n",
    "top_roa_by_sector"
   ]
  },
  {
   "cell_type": "code",
   "execution_count": 14,
   "metadata": {},
   "outputs": [],
   "source": [
    "top_japanese_employer = f500[f500[\"country\"] == \"Japan\"].sort_values(by=\"employees\", ascending=False).iloc[0][\"company\"]"
   ]
  },
  {
   "cell_type": "markdown",
   "metadata": {},
   "source": [
    "### Using Loops with pandas\n",
    "In this exercise, we're going to produce the following dictionary of the top employer in each country:\n",
    "\n",
    "``` \n",
    "{'Australia': 'Wesfarmers',\n",
    " 'Belgium': 'Anheuser-Busch InBev',\n",
    " 'Brazil': 'JBS',\n",
    " ...\n",
    " 'U.A.E': 'Emirates Group',\n",
    " 'USA': 'Walmart',\n",
    " 'Venezuela': 'Mercantil Servicios Financieros'} ```\n",
    "    \n",
    "1. Create an empty dictionary, top_employer_by_country to store the results of the exercise.\n",
    "2. Use the Series.unique() method to create an array of unique values from the country column.\n",
    "3. Use a for loop to iterate over the array unique countries. In each iteration:\n",
    "    - Select only the rows that have a country name equal to the current iteration.\n",
    "    - Use DataFrame.sort_values() to sort those rows by the employees column in descending order.\n",
    "    - Select the first row from the sorted dataframe.\n",
    "    - Extract the company name from the index label company from the first row.\n",
    "    - Assign the results to the top_employer_by_country dictionary, using the country name as the key, and the company name as the value.\n",
    "4. After running your code, use the variable inspector to view the top employer for each country."
   ]
  },
  {
   "cell_type": "code",
   "execution_count": 23,
   "metadata": {},
   "outputs": [],
   "source": [
    "top_employer_by_country = {}\n",
    "\n",
    "for country in f500[\"country\"].unique():\n",
    "    selected_row = f500[f500[\"country\"] == country]\n",
    "    company_name = selected_row.sort_values(by=\"employees\", ascending=False).iloc[0][\"company\"]\n",
    "    top_employer_by_country[country] = company_name"
   ]
  },
  {
   "cell_type": "markdown",
   "metadata": {},
   "source": [
    "### Challenge: Calculating Return on Assets by Country\n",
    "1. Create a new column roa in the f500 dataframe, containing the return on assets metric for each company.\n",
    "2. Aggregate the data by the sector column, and create a dictionary top_roa_by_sector, with:\n",
    "    - Dictionary keys with the sector name.\n",
    "    - Dictionary values with the company name with the highest ROA value from that sector."
   ]
  },
  {
   "cell_type": "code",
   "execution_count": 24,
   "metadata": {},
   "outputs": [
    {
     "data": {
      "text/plain": [
       "{'Retailing': 'H & M Hennes & Mauritz',\n",
       " 'Energy': 'National Grid',\n",
       " 'Motor Vehicles & Parts': 'Subaru',\n",
       " 'Financials': 'Berkshire Hathaway',\n",
       " 'Technology': 'Accenture',\n",
       " 'Wholesalers': 'McKesson',\n",
       " 'Health Care': 'Gilead Sciences',\n",
       " 'Telecommunications': 'KDDI',\n",
       " 'Engineering & Construction': 'Pacific Construction Group',\n",
       " 'Industrials': '3M',\n",
       " 'Food & Drug Stores': 'Publix Super Markets',\n",
       " 'Aerospace & Defense': 'Lockheed Martin',\n",
       " 'Food, Beverages & Tobacco': 'Philip Morris International',\n",
       " 'Household Products': 'Unilever',\n",
       " 'Transportation': 'Delta Air Lines',\n",
       " 'Materials': 'CRH',\n",
       " 'Chemicals': 'LyondellBasell Industries',\n",
       " 'Media': 'Disney',\n",
       " 'Apparel': 'Nike',\n",
       " 'Hotels, Restaurants & Leisure': 'McDonald’s',\n",
       " 'Business Services': 'Adecco Group'}"
      ]
     },
     "execution_count": 24,
     "metadata": {},
     "output_type": "execute_result"
    }
   ],
   "source": [
    "top_roa_by_sector = {}\n",
    "f500[\"roa\"] = f500[\"profits\"] / f500[\"assets\"]\n",
    "\n",
    "lst_sector = f500[\"sector\"].unique()\n",
    "\n",
    "for sector in lst_sector:\n",
    "    selected_row = f500[f500[\"sector\"] == sector]\n",
    "    company = selected_row.sort_values(by=\"roa\", ascending=False).iloc[0][\"company\"]\n",
    "    top_roa_by_sector[sector] = company\n",
    "    \n",
    "top_roa_by_sector"
   ]
  }
 ],
 "metadata": {
  "kernelspec": {
   "display_name": "Python 3",
   "language": "python",
   "name": "python3"
  },
  "language_info": {
   "codemirror_mode": {
    "name": "ipython",
    "version": 3
   },
   "file_extension": ".py",
   "mimetype": "text/x-python",
   "name": "python",
   "nbconvert_exporter": "python",
   "pygments_lexer": "ipython3",
   "version": "3.8.5"
  }
 },
 "nbformat": 4,
 "nbformat_minor": 1
}