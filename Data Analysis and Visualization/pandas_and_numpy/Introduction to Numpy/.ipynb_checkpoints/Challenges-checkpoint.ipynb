{
 "cells": [
  {
   "cell_type": "markdown",
   "metadata": {
    "collapsed": true,
    "pycharm": {
     "name": "#%% md\n"
    }
   },
   "source": [
    "# Pandas and Numpy Fundamentals"
   ]
  },
  {
   "cell_type": "markdown",
   "metadata": {},
   "source": [
    "## Introduction to Numpy\n",
    "\n",
    "In this mission we learned:\n",
    "\n",
    "- How vectorization makes our code faster.\n",
    "- About n-dimensional arrays, and NumPy's ndarrays.\n",
    "- How to select specific items, rows, columns, 1D slices, and 2D slices from ndarrays.\n",
    "- How to apply simple calculations to entire ndarrays.\n",
    "- w to use vectorized methods to perform calculations across either axis of ndarrays.\n",
    "-  the next mission, we'll continue to work with the NYC taxi data as we learn about boolean indexing, one of the most powerful tools when working with data in NumPy and pandas."
   ]
  },
  {
   "cell_type": "markdown",
   "metadata": {},
   "source": [
    "### Introduction to Ndarrays\n",
    "\n",
    "Execute the instructions below in the script.py code box on the right.\n",
    "\n",
    "1. Import numpy and assign to the alias np.\n",
    "2. Create a NumPy ndarray from the list [10, 20, 30]. Assign the result to the variable data_ndarray.\n",
    "3. Click 'Run Code' to run your code and get feedback.\n",
    "4. Click 'Submit Answer' to check your answer."
   ]
  },
  {
   "cell_type": "code",
   "execution_count": 1,
   "metadata": {
    "pycharm": {
     "name": "#%%\n"
    }
   },
   "outputs": [],
   "source": [
    "import numpy as np\n",
    "\n",
    "data_ndarray = np.array([10, 20, 30])"
   ]
  },
  {
   "cell_type": "markdown",
   "metadata": {
    "pycharm": {
     "name": "#%% md\n"
    }
   },
   "source": [
    "### NYC Taxi-Airport Data\n",
    "\n",
    "In the script.py code box on the right, we have used Python's csv module to import the nyc_taxis.csv file and convert it to a list of lists containing float values.\n",
    "\n",
    "1. Add a line of code using the numpy.array() constructor to convert the converted_taxi_list variable to a NumPy ndarray.\n",
    "2. Assign the result to the variable name taxi."
   ]
  },
  {
   "cell_type": "code",
   "execution_count": 2,
   "metadata": {
    "pycharm": {
     "name": "#%%\n"
    }
   },
   "outputs": [],
   "source": [
    "import csv\n",
    "\n",
    "# import nyc_taxi.csv as a list of lists\n",
    "f = open(\"../nyc_taxis.csv\", \"r\")\n",
    "taxi_list = list(csv.reader(f))\n",
    "\n",
    "# remove the header row\n",
    "taxi_list = taxi_list[1:]\n",
    "\n",
    "# convert all values to floats\n",
    "converted_taxi_list = []\n",
    "for row in taxi_list:\n",
    "    converted_row = []\n",
    "    for item in row:\n",
    "        converted_row.append(float(item))\n",
    "    converted_taxi_list.append(converted_row)\n",
    "\n",
    "# start writing your code below this comment\n",
    "taxi = np.array(converted_taxi_list)"
   ]
  },
  {
   "cell_type": "markdown",
   "metadata": {
    "pycharm": {
     "name": "#%% md\n"
    }
   },
   "source": [
    "### Array Shapes\n",
    "\n",
    "Throughout all of our Dataquest missions, variables we created in previous screens are available.\n",
    "\n",
    "1. Assign the shape of taxi to taxi_shape. Print the result."
   ]
  },
  {
   "cell_type": "code",
   "execution_count": 3,
   "metadata": {
    "pycharm": {
     "name": "#%%\n"
    }
   },
   "outputs": [],
   "source": [
    "taxi_shape = taxi.shape"
   ]
  },
  {
   "cell_type": "markdown",
   "metadata": {},
   "source": [
    "### Selecting and Slicing Rows and Items from ndarrays\n",
    "From the taxi ndarray:\n",
    "\n",
    "1. Select the row at index 0. Assign it to row_0.\n",
    "2. Select every column for the rows at indexes 391 to 500 inclusive. Assign them to rows_391_to_500.\n",
    "3. Select the item at row index 21 and column index 5. Assign it to row_21_column_5."
   ]
  },
  {
   "cell_type": "code",
   "execution_count": 4,
   "metadata": {
    "pycharm": {
     "name": "#%%\n"
    }
   },
   "outputs": [],
   "source": [
    "row_0 = taxi[0]\n",
    "rows_391_to_500 = taxi[391:501]\n",
    "row_21_column_5 = taxi[21, 5]"
   ]
  },
  {
   "cell_type": "markdown",
   "metadata": {},
   "source": [
    "### Selecting Columns and Custom Slicing ndarrays\n",
    "From the taxi ndarray:\n",
    "\n",
    "1. Select every row for the columns at indexes 1, 4, and 7. Assign them to columns_1_4_7.\n",
    "2. Select the columns at indexes 5 to 8 inclusive for the row at index 99. Assign them to row_99_columns_5_to_8.\n",
    "3. Select the rows at indexes 100 to 200 inclusive for the column at index 14. Assign them to rows_100_to_200_column_14."
   ]
  },
  {
   "cell_type": "code",
   "execution_count": 5,
   "metadata": {
    "pycharm": {
     "name": "#%%\n"
    }
   },
   "outputs": [],
   "source": [
    "columns_1_4_7 = taxi[:, [1, 4, 7]]\n",
    "row_99_columns_5_to_8 = taxi[99, 5:9]\n",
    "rows_100_to_200_column_14 = taxi[100:201, 14]"
   ]
  },
  {
   "cell_type": "markdown",
   "metadata": {},
   "source": [
    "### Vector Math\n",
    "1. Use vector addition to add fare_amount and fees_amount. Assign the result to fare_and_fees.\n",
    "2. After you have run your code, use the variable inspector below the code box to inspect the variables."
   ]
  },
  {
   "cell_type": "code",
   "execution_count": 6,
   "metadata": {
    "pycharm": {
     "name": "#%%\n"
    }
   },
   "outputs": [],
   "source": [
    "fare_amount = taxi[:,9]\n",
    "fees_amount = taxi[:,10]\n",
    "fare_and_fees = fare_amount + fees_amount"
   ]
  },
  {
   "cell_type": "markdown",
   "metadata": {},
   "source": [
    "### Vector Math Continued\n",
    "\n",
    "1. Use vector division to divide trip_distance_miles by trip_length_hours. Assign the result to trip_mph.\n",
    "2. After you have run your code, use the variable inspector below the code box to inspect the contents of the new trip_mph variable."
   ]
  },
  {
   "cell_type": "code",
   "execution_count": 7,
   "metadata": {
    "pycharm": {
     "name": "#%%\n"
    }
   },
   "outputs": [],
   "source": [
    "trip_distance_miles = taxi[:,7]\n",
    "trip_length_seconds = taxi[:,8]\n",
    "\n",
    "trip_length_hours = trip_length_seconds / 3600 # 3600 seconds is one hour\n",
    "\n",
    "trip_mph = trip_distance_miles / trip_length_hours"
   ]
  },
  {
   "cell_type": "markdown",
   "metadata": {},
   "source": [
    "### Calculating Statistics For 1D ndarrays\n",
    "\n",
    "1. Use the ndarray.max() method to calculate the maximum value of trip_mph. Assign the result to mph_max.\n",
    "2. Use the ndarray.mean() method to calculate the average value of trip_mph. Assign the result to mph_mean."
   ]
  },
  {
   "cell_type": "code",
   "execution_count": 8,
   "metadata": {
    "pycharm": {
     "name": "#%%\n"
    }
   },
   "outputs": [],
   "source": [
    "mph_min = trip_mph.min()\n",
    "mph_max = trip_mph.max()\n",
    "mph_mean = trip_mph.mean()"
   ]
  },
  {
   "cell_type": "markdown",
   "metadata": {},
   "source": [
    "### Calculating Statistics For 2D ndarrays\n",
    "\n",
    "We've already assigned the first five rows of taxi to taxi_first_five and the first four columns in the table above to fare_components.\n",
    "\n",
    "Check that the sum of each row in fare_components equals the value in the total_amount column.\n",
    "\n",
    "1. Use the ndarray.sum() method to calculate the sum of each row in fare_components. Assign the result to fare_sums.\n",
    "2. Extract the 14th column in taxi_first_five. Assign to fare_totals.\n",
    "3. Print fare_totals and fare_sums. Use the variable inspector to verify the results match."
   ]
  },
  {
   "cell_type": "code",
   "execution_count": 9,
   "metadata": {
    "pycharm": {
     "name": "#%%\n"
    }
   },
   "outputs": [],
   "source": [
    "# we'll compare against the first 5 rows only\n",
    "taxi_first_five = taxi[:5]\n",
    "# select these columns: fare_amount, fees_amount, tolls_amount, tip_amount\n",
    "fare_components = taxi_first_five[:,9:13]\n",
    "\n",
    "fare_sums = fare_components.sum(axis=1) # Compute the Sum of each rows\n",
    "fare_totals = taxi_first_five[:, 13]"
   ]
  },
  {
   "cell_type": "code",
   "execution_count": 10,
   "metadata": {},
   "outputs": [],
   "source": [
    "# we'll compare against the first 5 rows only\n",
    "taxi_first_five = taxi[:5]\n",
    "# select these columns: fare_amount, fees_amount, tolls_amount, tip_amount\n",
    "fare_components = taxi_first_five[:,9:13]\n",
    "\n",
    "fare_sums = fare_components.sum(axis=1) # Compute the Sum of each rows\n",
    "fare_totals = taxi_first_five[:, 13]"
   ]
  },
  {
   "cell_type": "markdown",
   "metadata": {},
   "source": [
    "### Selecting and Slicing Rows and Items from ndarrays\n",
    "From the taxi ndarray:\n",
    "\n",
    "1. Select the row at index 0. Assign it to row_0.\n",
    "2. Select every column for the rows at indexes 391 to 500 inclusive. Assign them to rows_391_to_500.\n",
    "3. Select the item at row index 21 and column index 5. Assign it to row_21_column_5."
   ]
  },
  {
   "cell_type": "code",
   "execution_count": 11,
   "metadata": {},
   "outputs": [],
   "source": [
    "row_0 = taxi[0]\n",
    "rows_391_to_500 = taxi[391:501]\n",
    "row_21_column_5 = taxi[21, 5]"
   ]
  },
  {
   "cell_type": "markdown",
   "metadata": {},
   "source": [
    "### Selecting Columns and Custom Slicing ndarrays\n",
    "From the taxi ndarray:\n",
    "\n",
    "1. Select every row for the columns at indexes 1, 4, and 7. Assign them to columns_1_4_7.\n",
    "2. Select the columns at indexes 5 to 8 inclusive for the row at index 99. Assign them to row_99_columns_5_to_8.\n",
    "3. Select the rows at indexes 100 to 200 inclusive for the column at index 14. Assign them to rows_100_to_200_column_14."
   ]
  },
  {
   "cell_type": "code",
   "execution_count": 12,
   "metadata": {},
   "outputs": [],
   "source": [
    "columns_1_4_7 = taxi[:, [1, 4, 7]]\n",
    "row_99_columns_5_to_8 = taxi[99, 5:9]\n",
    "rows_100_to_200_column_14 = taxi[100:201, 14]"
   ]
  },
  {
   "cell_type": "markdown",
   "metadata": {},
   "source": [
    "### Vector Math\n",
    "1. Use vector addition to add fare_amount and fees_amount. Assign the result to fare_and_fees.\n",
    "2. After you have run your code, use the variable inspector below the code box to inspect the variables."
   ]
  },
  {
   "cell_type": "code",
   "execution_count": 13,
   "metadata": {},
   "outputs": [],
   "source": [
    "fare_amount = taxi[:,9]\n",
    "fees_amount = taxi[:,10]\n",
    "fare_and_fees = fare_amount + fees_amount"
   ]
  },
  {
   "cell_type": "markdown",
   "metadata": {},
   "source": [
    "### Vector Math Continued\n",
    "\n",
    "1. Use vector division to divide trip_distance_miles by trip_length_hours. Assign the result to trip_mph.\n",
    "2. After you have run your code, use the variable inspector below the code box to inspect the contents of the new trip_mph variable."
   ]
  },
  {
   "cell_type": "code",
   "execution_count": 14,
   "metadata": {},
   "outputs": [],
   "source": [
    "trip_distance_miles = taxi[:,7]\n",
    "trip_length_seconds = taxi[:,8]\n",
    "\n",
    "trip_length_hours = trip_length_seconds / 3600 # 3600 seconds is one hour\n",
    "\n",
    "trip_mph = trip_distance_miles / trip_length_hours"
   ]
  },
  {
   "cell_type": "markdown",
   "metadata": {},
   "source": [
    "### Calculating Statistics For 1D ndarrays\n",
    "\n",
    "1. Use the ndarray.max() method to calculate the maximum value of trip_mph. Assign the result to mph_max.\n",
    "2. Use the ndarray.mean() method to calculate the average value of trip_mph. Assign the result to mph_mean."
   ]
  },
  {
   "cell_type": "code",
   "execution_count": 15,
   "metadata": {},
   "outputs": [],
   "source": [
    "mph_min = trip_mph.min()\n",
    "mph_max = trip_mph.max()\n",
    "mph_mean = trip_mph.mean()"
   ]
  },
  {
   "cell_type": "markdown",
   "metadata": {},
   "source": [
    "### Calculating Statistics For 2D ndarrays\n",
    "\n",
    "We've already assigned the first five rows of taxi to taxi_first_five and the first four columns in the table above to fare_components.\n",
    "\n",
    "Check that the sum of each row in fare_components equals the value in the total_amount column.\n",
    "\n",
    "1. Use the ndarray.sum() method to calculate the sum of each row in fare_components. Assign the result to fare_sums.\n",
    "2. Extract the 14th column in taxi_first_five. Assign to fare_totals.\n",
    "3. Print fare_totals and fare_sums. Use the variable inspector to verify the results match."
   ]
  },
  {
   "cell_type": "code",
   "execution_count": 16,
   "metadata": {},
   "outputs": [],
   "source": [
    "# we'll compare against the first 5 rows only\n",
    "taxi_first_five = taxi[:5]\n",
    "# select these columns: fare_amount, fees_amount, tolls_amount, tip_amount\n",
    "fare_components = taxi_first_five[:,9:13]\n",
    "\n",
    "fare_sums = fare_components.sum(axis=1) # Compute the Sum of each rows\n",
    "fare_totals = taxi_first_five[:, 13]"
   ]
  }
 ],
 "metadata": {
  "kernelspec": {
   "display_name": "Python 3",
   "language": "python",
   "name": "python3"
  },
  "language_info": {
   "codemirror_mode": {
    "name": "ipython",
    "version": 3
   },
   "file_extension": ".py",
   "mimetype": "text/x-python",
   "name": "python",
   "nbconvert_exporter": "python",
   "pygments_lexer": "ipython3",
   "version": "3.8.5"
  }
 },
 "nbformat": 4,
 "nbformat_minor": 1
}
