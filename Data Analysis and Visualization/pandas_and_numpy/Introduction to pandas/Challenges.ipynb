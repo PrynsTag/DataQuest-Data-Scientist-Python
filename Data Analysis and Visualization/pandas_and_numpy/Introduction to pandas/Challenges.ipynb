{
 "cells": [
  {
   "cell_type": "markdown",
   "metadata": {
    "collapsed": true
   },
   "source": [
    "# Pandas and Numpy Fundamentals"
   ]
  },
  {
   "cell_type": "markdown",
   "metadata": {},
   "source": [
    "## Introduction to pandas\n",
    "### Summary of All Different Label Selection\n",
    "|         Select by Label         \t|      Explicit Syntax      \t| Shorthand Convention \t|\n",
    "|:-------------------------------:\t|:-------------------------:\t|:--------------------:\t|\n",
    "| Single column from dataframe    \t| df.loc[:,\"col1\"]          \t| df[\"col1\"]           \t|\n",
    "| List of columns from dataframe  \t| df.loc[:,[\"col1\",\"col7\"]] \t| df[[\"col1\",\"col7\"]]  \t|\n",
    "| Slice of columns from dataframe \t| df.loc[:,\"col1\":\"col4\"]   \t|                      \t|\n",
    "| Single row from dataframe       \t| df.loc[\"row4\"]            \t|                      \t|\n",
    "| List of rows from dataframe     \t| df.loc[[\"row1\", \"row8\"]]  \t|                      \t|\n",
    "| Slice of rows from dataframe    \t| df.loc[\"row3\":\"row5\"]     \t| df[\"row3\":\"row5\"]    \t|\n",
    "| Single item from series         \t| s.loc[\"item8\"]            \t| s[\"item8\"]           \t|\n",
    "| List of items from series       \t| s.loc[[\"item1\",\"item7\"]]  \t| s[[\"item1\",\"item7\"]] \t|\n",
    "| Slice of items from series      \t| s.loc[\"item2\":\"item4\"]    \t| s[\"item2\":\"item4\"]   \t|"
   ]
  },
  {
   "cell_type": "markdown",
   "metadata": {},
   "source": [
    "In this mission, we learned:\n",
    "\n",
    "1. How pandas and NumPy combine to make working with data easier.\n",
    "    - About the two core pandas types: series and dataframes.\n",
    "    - How to select data from pandas objects using axis labels.\n",
    "2. In the next mission, we'll continue to learn about exploring data in pandas, including:\n",
    "    - How to select data from pandas objects using boolean arrays.\n",
    "    - How to assign data using labels and boolean arrays.\n",
    "    - How to create new rows and columns in pandas.\n",
    "    - New methods to make data analysis easier in pandas."
   ]
  },
  {
   "cell_type": "markdown",
   "metadata": {
    "pycharm": {
     "name": "#%% md\n"
    }
   },
   "source": [
    "### Introduction to the Data\n",
    "1. Use Python's type() function to assign the type of f500 to f500_type.\n",
    "2. Use the DataFrame.shape attribute to assign the shape of f500 to f500_shape.\n",
    "3. After you have run your code, use the variable inspector to look at the variables f500, f500_type, and f500_shape."
   ]
  },
  {
   "cell_type": "code",
   "execution_count": 1,
   "metadata": {
    "pycharm": {
     "is_executing": true,
     "name": "#%%\n"
    }
   },
   "outputs": [],
   "source": [
    "import pandas as pd\n",
    "f500 = pd.read_csv('f500.csv',index_col=0)\n",
    "f500.index.name = None\n",
    "f500_type = type(f500)\n",
    "f500_shape = f500.shape"
   ]
  },
  {
   "cell_type": "markdown",
   "metadata": {
    "pycharm": {
     "name": "#%% md\n"
    }
   },
   "source": [
    "### Introducing DataFrames\n",
    "\n",
    "Just like in the previous missions, the f500 variable we created on the previous screen is available to you here.\n",
    "\n",
    "1. Use the head() method to select the first 6 rows. Assign the result to f500_head.\n",
    "2. Use the tail() method to select the last 8 rows. Assign the result to f500_tail.\n",
    "3. After you have run your code, use the variable inspector and output to view information about the dataframe."
   ]
  },
  {
   "cell_type": "code",
   "execution_count": 2,
   "metadata": {
    "pycharm": {
     "is_executing": true,
     "name": "#%%\n"
    }
   },
   "outputs": [],
   "source": [
    "f500_head = f500.head(6)\n",
    "f500_tail = f500.tail(8)"
   ]
  },
  {
   "cell_type": "markdown",
   "metadata": {
    "pycharm": {
     "name": "#%% md\n"
    }
   },
   "source": [
    "### Introducing DataFrames Continued\n",
    "1. Use the DataFrame.info() method to display information about the f500 dataframe.\n",
    "2. After you have run your code, use the variable inspector and output to view information about the dataframe."
   ]
  },
  {
   "cell_type": "code",
   "execution_count": 3,
   "metadata": {
    "pycharm": {
     "is_executing": true,
     "name": "#%%\n"
    }
   },
   "outputs": [
    {
     "name": "stdout",
     "output_type": "stream",
     "text": [
      "<class 'pandas.core.frame.DataFrame'>\n",
      "Index: 500 entries, Walmart to AutoNation\n",
      "Data columns (total 16 columns):\n",
      " #   Column                    Non-Null Count  Dtype  \n",
      "---  ------                    --------------  -----  \n",
      " 0   rank                      500 non-null    int64  \n",
      " 1   revenues                  500 non-null    int64  \n",
      " 2   revenue_change            498 non-null    float64\n",
      " 3   profits                   499 non-null    float64\n",
      " 4   assets                    500 non-null    int64  \n",
      " 5   profit_change             436 non-null    float64\n",
      " 6   ceo                       500 non-null    object \n",
      " 7   industry                  500 non-null    object \n",
      " 8   sector                    500 non-null    object \n",
      " 9   previous_rank             500 non-null    int64  \n",
      " 10  country                   500 non-null    object \n",
      " 11  hq_location               500 non-null    object \n",
      " 12  website                   500 non-null    object \n",
      " 13  years_on_global_500_list  500 non-null    int64  \n",
      " 14  employees                 500 non-null    int64  \n",
      " 15  total_stockholder_equity  500 non-null    int64  \n",
      "dtypes: float64(3), int64(7), object(6)\n",
      "memory usage: 66.4+ KB\n"
     ]
    }
   ],
   "source": [
    "f500.info()"
   ]
  },
  {
   "cell_type": "markdown",
   "metadata": {
    "pycharm": {
     "name": "#%% md\n"
    }
   },
   "source": [
    "### Selecting a Column From a DataFrame by Label\n",
    "1. Select the industry column. Assign the result to the variable name industries.\n",
    "2. Use Python's type() function to assign the type of industries to industries_type.\n",
    "3. After you have run your code, use the variable inspector to look at the variables."
   ]
  },
  {
   "cell_type": "code",
   "execution_count": 16,
   "metadata": {
    "pycharm": {
     "is_executing": true,
     "name": "#%%\n"
    }
   },
   "outputs": [],
   "source": [
    "industries = f500[\"industry\"]\n",
    "industries_type = type(industries)"
   ]
  },
  {
   "cell_type": "markdown",
   "metadata": {
    "pycharm": {
     "name": "#%% md\n"
    }
   },
   "source": [
    "### Selecting Columns From a DataFrame by Label Continued\n",
    "1. Select the country column. Assign the result to the variable name countries.\n",
    "2. In order, select the revenues and years_on_global_500_list columns. Assign the result to the variable name revenues_years.\n",
    "3. In order, select all columns from ceo up to and including sector. Assign the result to the variable name ceo_to_sector.\n",
    "4. After you have run your code, use the variable inspector to view the variables."
   ]
  },
  {
   "cell_type": "code",
   "execution_count": 5,
   "metadata": {
    "pycharm": {
     "is_executing": true,
     "name": "#%%\n"
    }
   },
   "outputs": [],
   "source": [
    "countries = f500['country']\n",
    "revenue_years = f500[[\"revenues\", \"years_on_global_500_list\"]]"
   ]
  },
  {
   "cell_type": "markdown",
   "metadata": {
    "pycharm": {
     "name": "#%% md\n"
    }
   },
   "source": [
    "countries = f500['country']\n",
    "revenue_years = f500[[\"revenues\", \"years_on_global_500_list\"]]"
   ]
  },
  {
   "cell_type": "code",
   "execution_count": 6,
   "metadata": {
    "pycharm": {
     "is_executing": true,
     "name": "#%%\n"
    }
   },
   "outputs": [],
   "source": [
    "industries = f500[\"industry\"]\n",
    "industries_type = type(industries)"
   ]
  },
  {
   "cell_type": "markdown",
   "metadata": {
    "pycharm": {
     "name": "#%% md\n"
    }
   },
   "source": [
    "### Selecting Columns From a DataFrame by Label Continued\n",
    "1. Select the country column. Assign the result to the variable name countries.\n",
    "2. In order, select the revenues and years_on_global_500_list columns. Assign the result to the variable name revenues_years.\n",
    "3. In order, select all columns from ceo up to and including sector. Assign the result to the variable name ceo_to_sector.\n",
    "4. After you have run your code, use the variable inspector to view the variables."
   ]
  },
  {
   "cell_type": "code",
   "execution_count": 9,
   "metadata": {
    "pycharm": {
     "is_executing": true,
     "name": "#%%\n"
    }
   },
   "outputs": [],
   "source": [
    "countries = f500['country']\n",
    "revenues_years = f500[[\"revenues\", \"years_on_global_500_list\"]]\n",
    "ceo_to_sector = f500.loc[:, \"ceo\":\"sector\"]"
   ]
  },
  {
   "cell_type": "markdown",
   "metadata": {
    "pycharm": {
     "name": "#%% md\n"
    }
   },
   "source": [
    "### Selecting Rows From a DataFrame by Label\n",
    "\n",
    "- By selecting data from f500:\n",
    "    1. Create a new variable toyota, with:\n",
    "        - Just the row with index Toyota Motor.\n",
    "        - All columns.\n",
    "    2. Create a new variable, drink_companies, with:\n",
    "        - Rows with indicies Anheuser-Busch InBev, Coca-Cola, and Heineken Holding, in that order.\n",
    "        - All columns.\n",
    "    3. Create a new variable, middle_companies with:\n",
    "        - All rows with indicies from Tata Motorsto Nationwide, inclusive.\n",
    "        - All columns from rank to country, inclusive."
   ]
  },
  {
   "cell_type": "code",
   "execution_count": 32,
   "metadata": {
    "pycharm": {
     "name": "#%%\n"
    }
   },
   "outputs": [],
   "source": [
    "toyota = f500.loc[\"Toyota Motor\"]\n",
    "drink_companies = f500.loc[[\"Anheuser-Busch InBev\", \"Coca-Cola\", \"Heineken Holding\"]]\n",
    "middle_companies = f500.loc[\"Tata Motors\":\"Nationwide\", \"rank\":\"country\"]"
   ]
  },
  {
   "cell_type": "markdown",
   "metadata": {
    "pycharm": {
     "name": "#%% md\n"
    }
   },
   "source": [
    "### Value Counts Method\n",
    "We've already saved a selection of data from f500 to a dataframe named f500_sel.\n",
    "\n",
    "1. Find the counts of each unique value in the country column in the f500_sel dataframe.\n",
    "    - Select the country column in the f500_sel dataframe. Assign it to a variable named countries.\n",
    "    - Use the Series.value_counts() method to return the value counts for countries. Assign the results to country_counts."
   ]
  },
  {
   "cell_type": "code",
   "execution_count": 39,
   "metadata": {
    "pycharm": {
     "name": "#%%\n"
    }
   },
   "outputs": [],
   "source": [
    "f500_sel = f500.head(6)\n",
    "countries = f500_sel[\"country\"]\n",
    "country_counts = countries.value_counts()"
   ]
  },
  {
   "cell_type": "markdown",
   "metadata": {
    "pycharm": {
     "name": "#%% md\n"
    }
   },
   "source": [
    "### Selecting Items from a Series by Label\n",
    "- From the pandas series countries_counts:\n",
    "    1. Select the item at index label India. Assign the result to the variable name india.\n",
    "    2. In order, select the items with index labels USA, Canada, and Mexico. Assign the result to the variable name north_america."
   ]
  },
  {
   "cell_type": "code",
   "execution_count": 33,
   "metadata": {
    "pycharm": {
     "name": "#%%\n"
    }
   },
   "outputs": [],
   "source": [
    "countries = f500['country']\n",
    "countries_counts = countries.value_counts()\n",
    "india = countries_counts[\"India\"]\n",
    "north_america = countries_counts[[\"USA\", \"Canada\", \"Mexico\"]]"
   ]
  },
  {
   "cell_type": "markdown",
   "metadata": {
    "pycharm": {
     "name": "#%% md\n"
    }
   },
   "source": [
    "### Summary Challenge\n",
    "By selecting data from f500:\n",
    "\n",
    "1. Create a new variable big_movers, with:\n",
    "    - Rows with indices Aviva, HP, JD.com, and BHP Billiton, in that order.\n",
    "    - The rank and previous_rank columns, in that order.\n",
    "2. Create a new variable, bottom_companies with:\n",
    "    - All rows with indices from National Gridto AutoNation, inclusive.\n",
    "    - The rank, sector, and country columns."
   ]
  },
  {
   "cell_type": "code",
   "execution_count": null,
   "outputs": [],
   "source": [
    "big_movers = f500.loc[[\"Aviva\", \"HP\", \"JD.com\", \"BHP Billiton\"], [\"rank\", \"previous_rank\"]]\n",
    "bottom_companies = f500.loc[\"National Grid\":\"AutoNation\", [\"rank\", \"sector\", \"country\"]]"
   ],
   "metadata": {
    "collapsed": false,
    "pycharm": {
     "name": "#%%\n"
    }
   }
  },
  {
   "cell_type": "code",
   "execution_count": 43,
   "metadata": {},
   "outputs": [],
   "source": [
    "big_movers = f500.loc[[\"Aviva\", \"HP\", \"JD.com\", \"BHP Billiton\"], [\"rank\", \"previous_rank\"]]\n",
    "bottom_companies = f500.loc[\"National Grid\":\"AutoNation\", [\"rank\", \"sector\", \"country\"]]"
   ]
  }
 ],
 "metadata": {
  "kernelspec": {
   "display_name": "Python 3",
   "language": "python",
   "name": "python3"
  },
  "language_info": {
   "codemirror_mode": {
    "name": "ipython",
    "version": 3
   },
   "file_extension": ".py",
   "mimetype": "text/x-python",
   "name": "python",
   "nbconvert_exporter": "python",
   "pygments_lexer": "ipython3",
   "version": "3.8.5"
  }
 },
 "nbformat": 4,
 "nbformat_minor": 1
}