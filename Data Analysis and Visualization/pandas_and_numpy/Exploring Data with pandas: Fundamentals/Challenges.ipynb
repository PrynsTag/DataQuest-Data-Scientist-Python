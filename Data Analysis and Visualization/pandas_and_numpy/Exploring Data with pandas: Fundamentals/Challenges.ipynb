{
 "cells": [
  {
   "cell_type": "markdown",
   "metadata": {
    "collapsed": true
   },
   "source": [
    "# Pandas and NumPy Fundamentals"
   ]
  },
  {
   "cell_type": "markdown",
   "metadata": {},
   "source": [
    "## Exploring Data with pandas: Fundamentals\n",
    "In this mission, we learned:\n",
    "\n",
    "- How to select data from pandas objects using boolean arrays.\n",
    "- How to assign data using labels and boolean arrays.\n",
    "- How to create new rows and columns in pandas.\n",
    "- Many new methods to make data analysis easier in pandas.\n",
    "- In the next mission, we'll continue to learn about exploring data in pandas, including:\n",
    "\n",
    "New ways of creating dataframe and series objects.\n",
    "Advanced selection techniques.\n",
    "Performing more complex analysis."
   ]
  },
  {
   "cell_type": "markdown",
   "metadata": {},
   "source": [
    "### Introduction to the Data\n",
    "We've already read the data set into a pandas dataframe and assigned it to a variable named f500.\n",
    "\n",
    "1. Use the DataFrame.head() method to select the first 10 rows in f500. Assign the result to f500_head.\n",
    "2. Use the DataFrame.info() method to display information about the dataframe."
   ]
  },
  {
   "cell_type": "code",
   "execution_count": 1,
   "metadata": {},
   "outputs": [],
   "source": [
    "import pandas as pd\n",
    "import numpy as np\n",
    "f500 = pd.read_csv('../f500.csv',index_col=0)"
   ]
  },
  {
   "cell_type": "code",
   "execution_count": 2,
   "metadata": {},
   "outputs": [
    {
     "name": "stdout",
     "output_type": "stream",
     "text": [
      "<class 'pandas.core.frame.DataFrame'>\n",
      "Index: 10 entries, Walmart to Exxon Mobil\n",
      "Data columns (total 16 columns):\n",
      " #   Column                    Non-Null Count  Dtype  \n",
      "---  ------                    --------------  -----  \n",
      " 0   rank                      10 non-null     int64  \n",
      " 1   revenues                  10 non-null     int64  \n",
      " 2   revenue_change            10 non-null     float64\n",
      " 3   profits                   10 non-null     float64\n",
      " 4   assets                    10 non-null     int64  \n",
      " 5   profit_change             8 non-null      float64\n",
      " 6   ceo                       10 non-null     object \n",
      " 7   industry                  10 non-null     object \n",
      " 8   sector                    10 non-null     object \n",
      " 9   previous_rank             10 non-null     int64  \n",
      " 10  country                   10 non-null     object \n",
      " 11  hq_location               10 non-null     object \n",
      " 12  website                   10 non-null     object \n",
      " 13  years_on_global_500_list  10 non-null     int64  \n",
      " 14  employees                 10 non-null     int64  \n",
      " 15  total_stockholder_equity  10 non-null     int64  \n",
      "dtypes: float64(3), int64(7), object(6)\n",
      "memory usage: 1.3+ KB\n"
     ]
    }
   ],
   "source": [
    "f500_head = f500.head(10)\n",
    "f500_head.info()"
   ]
  },
  {
   "cell_type": "markdown",
   "metadata": {},
   "source": [
    "### Vectorized Operations\n",
    "1. Subtract the values in the rank column from the values in the previous_rank column. Assign the result to rank_change."
   ]
  },
  {
   "cell_type": "code",
   "execution_count": 3,
   "metadata": {
    "pycharm": {
     "name": "#%%\n"
    }
   },
   "outputs": [],
   "source": [
    "rank_change = f500[\"previous_rank\"] - f500[\"rank\"]"
   ]
  },
  {
   "cell_type": "markdown",
   "metadata": {},
   "source": [
    "### Series Data Exploration Methods\n",
    "1. Use the Series.max() method to find the maximum value for the rank_change series. Assign the result to the variable rank_change_max.\n",
    "2. Use the Series.min() method to find the minimum value for the rank_change series. Assign the result to the variable rank_change_min.\n",
    "3. After running your code, use the variable inspector to view the new variable you created."
   ]
  },
  {
   "cell_type": "code",
   "execution_count": 4,
   "metadata": {
    "pycharm": {
     "name": "#%%\n"
    }
   },
   "outputs": [],
   "source": [
    "rank_change_max = rank_change.max()\n",
    "rank_change_min = rank_change.min()"
   ]
  },
  {
   "cell_type": "markdown",
   "metadata": {},
   "source": [
    "### Series Describe Method\n",
    "1. Return a series of descriptive statistics for the rank column in f500.\n",
    "    - Select the rank column. Assign it to a variable named rank.\n",
    "    - Use the Series.describe() method to return a series of statistics for rank. Assign the result to rank_desc.\n",
    "2. Return a series of descriptive statistics for the previous_rank column in f500.\n",
    "    - Select the previous_rank column. Assign it to a variable named prev_rank.\n",
    "    - Use the Series.describe() method to return a series of statistics for prev_rank. Assign the result to prev_rank_desc.\n",
    "3. After you have run your code, use the variable inspector to view each of the new variables you created. Try to identify any potential issues with the data before moving onto the next screen."
   ]
  },
  {
   "cell_type": "code",
   "execution_count": 5,
   "metadata": {
    "pycharm": {
     "name": "#%%\n"
    }
   },
   "outputs": [],
   "source": [
    "rank = f500[\"rank\"]\n",
    "rank_desc = rank.describe()\n",
    "\n",
    "prev_rank = f500[\"previous_rank\"]\n",
    "prev_rank_desc = prev_rank.describe()"
   ]
  },
  {
   "cell_type": "markdown",
   "metadata": {},
   "source": [
    "### Method Chaining\n",
    "1. Use Series.value_counts() and Series.loc to return the number of companies with a value of 0 in the previous_rank column in the f500 dataframe. Assign the results to zero_previous_rank.\n",
    "2. After running your code, use the variable inspector to view each of the new variables you created."
   ]
  },
  {
   "cell_type": "code",
   "execution_count": 6,
   "metadata": {
    "pycharm": {
     "name": "#%%\n"
    }
   },
   "outputs": [],
   "source": [
    "zero_previous_rank = f500[\"previous_rank\"].value_counts().loc[0]"
   ]
  },
  {
   "cell_type": "markdown",
   "metadata": {},
   "source": [
    "### Series Data Exploration Methods\n",
    "1. Use the Series.max() method to find the maximum value for the rank_change series. Assign the result to the variable rank_change_max.\n",
    "2. Use the Series.min() method to find the minimum value for the rank_change series. Assign the result to the variable rank_change_min.\n",
    "3. After running your code, use the variable inspector to view the new variable you created."
   ]
  },
  {
   "cell_type": "code",
   "execution_count": 7,
   "metadata": {},
   "outputs": [],
   "source": [
    "rank_change_max = rank_change.max()\n",
    "rank_change_min = rank_change.min()"
   ]
  },
  {
   "cell_type": "markdown",
   "metadata": {},
   "source": [
    "### Series Describe Method\n",
    "1. Return a series of descriptive statistics for the rank column in f500.\n",
    "    - Select the rank column. Assign it to a variable named rank.\n",
    "    - Use the Series.describe() method to return a series of statistics for rank. Assign the result to rank_desc.\n",
    "2. Return a series of descriptive statistics for the previous_rank column in f500.\n",
    "    - Select the previous_rank column. Assign it to a variable named prev_rank.\n",
    "    - Use the Series.describe() method to return a series of statistics for prev_rank. Assign the result to prev_rank_desc.\n",
    "3. After you have run your code, use the variable inspector to view each of the new variables you created. Try to identify any potential issues with the data before moving onto the next screen."
   ]
  },
  {
   "cell_type": "code",
   "execution_count": 8,
   "metadata": {},
   "outputs": [],
   "source": [
    "rank = f500[\"rank\"]\n",
    "rank_desc = rank.describe()\n",
    "\n",
    "prev_rank = f500[\"previous_rank\"]\n",
    "prev_rank_desc = prev_rank.describe()"
   ]
  },
  {
   "cell_type": "markdown",
   "metadata": {},
   "source": [
    "### Method Chaining\n",
    "1. Use Series.value_counts() and Series.loc to return the number of companies with a value of 0 in the previous_rank column in the f500 dataframe. Assign the results to zero_previous_rank.\n",
    "2. After running your code, use the variable inspector to view each of the new variables you created."
   ]
  },
  {
   "cell_type": "code",
   "execution_count": 9,
   "metadata": {},
   "outputs": [],
   "source": [
    "zero_previous_rank = f500[\"previous_rank\"].value_counts().loc[0]"
   ]
  },
  {
   "cell_type": "markdown",
   "metadata": {},
   "source": [
    "### Using Boolean Indexing with pandas Objects\n",
    "1. Create a boolean series, motor_bool, that compares whether the values in the industry column from the f500 dataframe are equal to \"Motor Vehicles and Parts\".\n",
    "2. Use the motor_bool boolean series to index the country column. Assign the result to motor_countries.\n",
    "3. After running your code, use the variable inspector to view each of the new variables you created."
   ]
  },
  {
   "cell_type": "code",
   "execution_count": 10,
   "metadata": {},
   "outputs": [],
   "source": [
    "motor_bool = f500[\"industry\"] == \"Motor Vehicles and Parts\"\n",
    "motor_countries = f500.loc[motor_bool, \"country\"]"
   ]
  },
  {
   "cell_type": "markdown",
   "metadata": {},
   "source": [
    "### Using Boolean Arrays to Assign Values\n",
    "- Use boolean indexing to update values in the previous_rank column of the f500 dataframe:\n",
    "    - There should now be a value of np.nan where there previously was a value of 0.\n",
    "    - It is up to you whether you assign the boolean series to its own variable first, or whether you complete the operation in one line.\n",
    "- Create a new pandas series, prev_rank_after, using the same syntax that was used to create the prev_rank_before series.\n",
    "- After running your code, use the variable inspector to compare prev_rank_before and prev_rank_after."
   ]
  },
  {
   "cell_type": "code",
   "execution_count": 11,
   "metadata": {},
   "outputs": [],
   "source": [
    "prev_rank_before = f500[\"previous_rank\"].value_counts(dropna=False).head()\n",
    "f500.loc[f500[\"previous_rank\"] == 0, \"previous_rank\"] = np.nan\n",
    "prev_rank_after = f500[\"previous_rank\"].value_counts(dropna=False).head()"
   ]
  },
  {
   "cell_type": "markdown",
   "metadata": {},
   "source": [
    "### Creating New Columns\n",
    "1. Add a new column named rank_change to the f500 dataframe by subtracting the values in the rank column from the values in the previous_rank column.\n",
    "2. Use the Series.describe() method to return a series of descriptive statistics for the rank_change column. Assign the result to rank_change_desc.\n",
    "3. After running your code, use the variable inspector to view each of the new variables you created. Verify that the minimum value of the rank_change column is now greater than -500."
   ]
  },
  {
   "cell_type": "code",
   "execution_count": 12,
   "metadata": {},
   "outputs": [],
   "source": [
    "f500[\"rank_change\"] = f500[\"previous_rank\"] - f500[\"rank\"]\n",
    "rank_change_desc = f500[\"rank_change\"].describe()"
   ]
  },
  {
   "cell_type": "markdown",
   "metadata": {},
   "source": [
    "### Challenge: Top Performers by Country\n",
    "1. Create a series, industry_usa, containing counts of the two most common values in the industry column for companies headquartered in the USA.\n",
    "2. Create a series, sector_china, containing counts of the three most common values in the sector column for companies headquartered in the China."
   ]
  },
  {
   "cell_type": "code",
   "execution_count": 18,
   "metadata": {},
   "outputs": [
    {
     "data": {
      "text/plain": [
       "Banks: Commercial and Savings               8\n",
       "Insurance: Property and Casualty (Stock)    7\n",
       "Name: industry, dtype: int64"
      ]
     },
     "execution_count": 18,
     "metadata": {},
     "output_type": "execute_result"
    }
   ],
   "source": [
    "industry_usa = f500[f500[\"country\"] == \"USA\"][\"industry\"].value_counts().head(2)\n",
    "sector_china = f500[f500[\"country\"] == \"China\"][\"sector\"].value_counts().head(3)"
   ]
  },
  {
   "cell_type": "code",
   "execution_count": null,
   "outputs": [],
   "source": [],
   "metadata": {
    "collapsed": false,
    "pycharm": {
     "name": "#%%\n"
    }
   }
  },
  {
   "cell_type": "code",
   "execution_count": null,
   "metadata": {},
   "outputs": [],
   "source": []
  }
 ],
 "metadata": {
  "kernelspec": {
   "display_name": "Python 3",
   "language": "python",
   "name": "python3"
  },
  "language_info": {
   "codemirror_mode": {
    "name": "ipython",
    "version": 3
   },
   "file_extension": ".py",
   "mimetype": "text/x-python",
   "name": "python",
   "nbconvert_exporter": "python",
   "pygments_lexer": "ipython3",
   "version": "3.8.5"
  }
 },
 "nbformat": 4,
 "nbformat_minor": 1
}