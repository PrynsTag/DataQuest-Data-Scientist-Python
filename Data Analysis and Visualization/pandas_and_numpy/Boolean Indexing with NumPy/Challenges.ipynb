{
 "cells": [
  {
   "cell_type": "markdown",
   "metadata": {
    "collapsed": true
   },
   "source": [
    "# Pandas and Numpy Fundamentals"
   ]
  },
  {
   "cell_type": "markdown",
   "metadata": {},
   "source": [
    "## Boolean Indexing with NumPy\n",
    "\n",
    "In this mission we learned:\n",
    "\n",
    "- How to use numpy.genfromtxt() to read in an ndarray.\n",
    "- About NaN values.\n",
    "- What a boolean array is, and how to create one.\n",
    "- How to use boolean indexing to filter values in one and two-dimensional ndarrays.\n",
    "- How to assign one or more new values to an ndarray based on their locations.\n",
    "- How to assign one or more new values to an ndarray based on their values.\n",
    "\n",
    "This is the last mission that deals exclusively with NumPy, but it's certainly not the last time we'll use NumPy. As we move onto learning other Python data libraries, you'll find yourself using a lot of these fundamental NumPy concepts. We'll also use NumPy from time to time to create, transform and otherwise work with tabular data.\n",
    "\n",
    "In the next mission, we'll start using the pandas library and learn how it compares to NumPy."
   ]
  },
  {
   "cell_type": "markdown",
   "metadata": {},
   "source": [
    "### Reading CSV files with NumPy\n",
    "\n",
    "Import the NumPy library and assign to the alias np.\n",
    "1. Use the numpy.genfromtxt() function to read the nyc_taxis.csv file into NumPy. Assign the result to taxi.\n",
    "2. Use the ndarray.shape attribute to assign the shape of taxi to taxi_shape.\n",
    "3. Use the variable inspector under the code box to view the taxi ndarray and its shape after running your code."
   ]
  },
  {
   "cell_type": "code",
   "execution_count": 1,
   "metadata": {},
   "outputs": [],
   "source": [
    "import numpy as np\n",
    "taxi = np.genfromtxt(\"../nyc_taxis.csv\", delimiter=\",\")\n",
    "taxi_shape = taxi.shape"
   ]
  },
  {
   "cell_type": "markdown",
   "metadata": {},
   "source": [
    "### Reading CSV files with NumPy Continued\n",
    "\n",
    "1. Use the numpy.genfromtxt() function to again read the nyc_taxis.csv file into NumPy, but this time, skip the first row. Assign the result to taxi.\n",
    "2. Assign the shape of taxi to taxi_shape.\n",
    "3. Use the variable inspector under the code box to view the taxi ndarray and its shape after you have run your code."
   ]
  },
  {
   "cell_type": "code",
   "execution_count": 2,
   "metadata": {
    "pycharm": {
     "name": "#%%\n"
    }
   },
   "outputs": [],
   "source": [
    "taxi = np.genfromtxt(\"../nyc_taxis.csv\", delimiter=\",\", skip_header=1)\n",
    "taxi_shape = taxi.shape"
   ]
  },
  {
   "cell_type": "markdown",
   "metadata": {},
   "source": [
    "### Boolean Arrays\n",
    "\n",
    "1. Use vectorized boolean operations to:\n",
    "    - Evaluate whether the elements in array a are less than 3. Assign the result to a_bool.\n",
    "    - Evaluate whether the elements in array b are equal to \"blue\". Assign the result to b_bool.\n",
    "    - Evaluate whether the elements in array c are greater than 100. Assign the result to c_bool.\n",
    "2. Once you've run your code, use the variable inspector below the code box to view each boolean array."
   ]
  },
  {
   "cell_type": "code",
   "execution_count": 3,
   "metadata": {
    "pycharm": {
     "name": "#%%\n"
    }
   },
   "outputs": [],
   "source": [
    "a = np.array([1, 2, 3, 4, 5])\n",
    "b = np.array([\"blue\", \"blue\", \"red\", \"blue\"])\n",
    "c = np.array([80.0, 103.4, 96.9, 200.3])\n",
    "\n",
    "a_bool = a < 3\n",
    "b_bool = b == \"blue\"\n",
    "c_bool = c > 100"
   ]
  },
  {
   "cell_type": "markdown",
   "metadata": {},
   "source": [
    "### Boolean Indexing with 1D ndarrays\n",
    "\n",
    "1. Calculate the number of rides in the taxi ndarray that are from February:\n",
    "     - Create a boolean array, february_bool, that evaluates whether the items in pickup_month are equal to 2.\n",
    "     - Use the february_bool boolean array to index pickup_month. Assign the result to february.\n",
    "     - Use the ndarray.shape attribute to find the number of items in february. Assign the result to february_rides.\n",
    "2. Once you have run your code, use the variable inspector to view the number of rides for February."
   ]
  },
  {
   "cell_type": "code",
   "execution_count": 4,
   "metadata": {
    "pycharm": {
     "name": "#%%\n"
    }
   },
   "outputs": [],
   "source": [
    "pickup_month = taxi[:,1]\n",
    "\n",
    "january_bool = pickup_month == 1\n",
    "january = pickup_month[january_bool]\n",
    "january_rides = january.shape[0]"
   ]
  },
  {
   "cell_type": "markdown",
   "metadata": {},
   "source": [
    "pickup_month = taxi[:,1]\n",
    "\n",
    "january_bool = pickup_month == 1\n",
    "january = pickup_month[january_bool]\n",
    "january_rides = january.shape[0]"
   ]
  },
  {
   "cell_type": "code",
   "execution_count": 5,
   "metadata": {},
   "outputs": [],
   "source": [
    "taxi = np.genfromtxt(\"../nyc_taxis.csv\", delimiter=\",\", skip_header=1)\n",
    "taxi_shape = taxi.shape"
   ]
  },
  {
   "cell_type": "markdown",
   "metadata": {},
   "source": [
    "### Boolean Arrays\n",
    "\n",
    "1. Use vectorized boolean operations to:\n",
    "    - Evaluate whether the elements in array a are less than 3. Assign the result to a_bool.\n",
    "    - Evaluate whether the elements in array b are equal to \"blue\". Assign the result to b_bool.\n",
    "    - Evaluate whether the elements in array c are greater than 100. Assign the result to c_bool.\n",
    "2. Once you've run your code, use the variable inspector below the code box to view each boolean array."
   ]
  },
  {
   "cell_type": "code",
   "execution_count": 6,
   "metadata": {},
   "outputs": [],
   "source": [
    "a = np.array([1, 2, 3, 4, 5])\n",
    "b = np.array([\"blue\", \"blue\", \"red\", \"blue\"])\n",
    "c = np.array([80.0, 103.4, 96.9, 200.3])\n",
    "\n",
    "a_bool = a < 3\n",
    "b_bool = b == \"blue\"\n",
    "c_bool = c > 100"
   ]
  },
  {
   "cell_type": "markdown",
   "metadata": {},
   "source": [
    "### Boolean Indexing with 1D ndarrays\n",
    "\n",
    "1. Calculate the number of rides in the taxi ndarray that are from February:\n",
    "     - Create a boolean array, february_bool, that evaluates whether the items in pickup_month are equal to 2.\n",
    "     - Use the february_bool boolean array to index pickup_month. Assign the result to february.\n",
    "     - Use the ndarray.shape attribute to find the number of items in february. Assign the result to february_rides.\n",
    "2. Once you have run your code, use the variable inspector to view the number of rides for February."
   ]
  },
  {
   "cell_type": "code",
   "execution_count": 7,
   "metadata": {},
   "outputs": [],
   "source": [
    "pickup_month = taxi[:,1]\n",
    "\n",
    "february_bool = pickup_month == 2\n",
    "february = pickup_month[february_bool]\n",
    "february_rides = february.shape[0]"
   ]
  },
  {
   "cell_type": "markdown",
   "metadata": {},
   "source": [
    "### Boolean Indexing with 2D ndarrays\n",
    "\n",
    "1. Create a boolean array, tip_bool, that determines which rows have values for the tip_amount column of more than 50.\n",
    "2. Use the tip_bool array to select all rows from taxi with values tip amounts of more than 50, and the columns from indexes 5 to 13 inclusive. Assign the resulting array to top_tips."
   ]
  },
  {
   "cell_type": "code",
   "execution_count": 8,
   "metadata": {},
   "outputs": [],
   "source": [
    "tip_bool = taxi[:, 12] > 50\n",
    "top_tips = taxi[tip_bool, 5:14]"
   ]
  },
  {
   "cell_type": "markdown",
   "metadata": {},
   "source": [
    "### Assigning Values in ndarrays\n",
    "\n",
    "To help you practice without making changes to our original array, we have used the ndarray.copy() method to make taxi_modified, a copy of our original for these exercises.\n",
    "\n",
    "1. The value at column index 5 (pickup_location) of row index 28214 is incorrect. Use assignment to change this value to 1 in the taxi_modified ndarray.\n",
    "2. The first column (index 0) contains year values as four digit numbers in the format YYYY (2016, since all trips in our data set are from 2016). Use assignment to change these values to the YY format (16) in the taxi_modified ndarray.\n",
    "3. The values at column index 7 (trip_distance) of rows index 1800 and 1801 are incorrect. Use assignment to change these values in the taxi_modified ndarray to the mean value for that column."
   ]
  },
  {
   "cell_type": "code",
   "execution_count": 9,
   "metadata": {},
   "outputs": [],
   "source": [
    "# this creates a copy of our taxi ndarray\n",
    "taxi_modified = taxi.copy()\n",
    "taxi_modified[28214, 5] = 1\n",
    "taxi_modified[:, 0] = 16\n",
    "taxi_modified[1800:1802, 7] = taxi_modified[:, 7].mean()"
   ]
  },
  {
   "cell_type": "markdown",
   "metadata": {},
   "source": [
    "### Assignment Using Boolean Arrays\n",
    "\n",
    "We again used the ndarray.copy() method to make taxi_copy, a copy of our original for this exercise.\n",
    "\n",
    "1. Select the fourteenth column (index 13) in taxi_copy. Assign it to a variable named total_amount.\n",
    "2. For rows where the value of total_amount is less than 0, use assignment to change the value to 0."
   ]
  },
  {
   "cell_type": "code",
   "execution_count": 10,
   "metadata": {},
   "outputs": [],
   "source": [
    "# this creates a copy of our taxi ndarray\n",
    "taxi_copy = taxi.copy()\n",
    "total_amount = taxi_copy[:, 13]\n",
    "taxi_copy[total_amount < 0] = 0"
   ]
  },
  {
   "cell_type": "markdown",
   "metadata": {},
   "source": [
    "### Assignment Using Boolean Arrays Continued\n",
    "We have created a new copy of our taxi dataset, taxi_modified with an additional column containing the value 0 for every row.\n",
    "\n",
    "1. In our new column at index 15, assign the value 1 if the pickup_location_code (column index 5) corresponds to an airport location, leaving the value as 0 otherwise by performing these three operations:\n",
    "2. For rows where the value for the column index 5 is equal to 2 (JFK Airport), assign the value 1 to column index 15.\n",
    "3. For rows where the value for the column index 5 is equal to 3 (LaGuardia Airport), assign the value 1 to column index 15.\n",
    "4. For rows where the value for the column index 5 is equal to 5 (Newark Airport), assign the value 1 to column index 15."
   ]
  },
  {
   "cell_type": "code",
   "execution_count": 11,
   "metadata": {},
   "outputs": [
    {
     "name": "stdout",
     "output_type": "stream",
     "text": [
      "[[2.016e+03 1.000e+00 1.000e+00 ... 6.999e+01 1.000e+00 1.000e+00]\n",
      " [2.016e+03 1.000e+00 1.000e+00 ... 5.430e+01 1.000e+00 1.000e+00]\n",
      " [2.016e+03 1.000e+00 1.000e+00 ... 3.780e+01 2.000e+00 1.000e+00]\n",
      " ...\n",
      " [2.016e+03 6.000e+00 3.000e+01 ... 6.334e+01 1.000e+00 1.000e+00]\n",
      " [2.016e+03 6.000e+00 3.000e+01 ... 4.475e+01 1.000e+00 1.000e+00]\n",
      " [2.016e+03 6.000e+00 3.000e+01 ... 5.484e+01 2.000e+00 1.000e+00]]\n"
     ]
    }
   ],
   "source": [
    "# create a new column filled with `0`.\n",
    "zeros = np.zeros([taxi.shape[0], 1])\n",
    "taxi_modified = np.concatenate([taxi, zeros], axis=1)\n",
    "taxi_modified[taxi_modified[:, 5] == 2, 15] = 1\n",
    "taxi_modified[taxi_modified[:, 5] == 3, 15] = 1\n",
    "taxi_modified[taxi_modified[:, 5] == 5, 15] = 1\n",
    "\n",
    "print(taxi_modified)"
   ]
  },
  {
   "cell_type": "markdown",
   "metadata": {},
   "source": [
    "### Challenge: Which is the most popular airport?\n",
    "1. Using the original taxi ndarray, calculate how many trips had JFK Airport as their destination:\n",
    "    - Use boolean indexing to select only the rows where the dropoff_location_code column (column index 6) has a value that corresponds to JFK. Assign the result to jfk.\n",
    "    - Calculate how many rows are in the new jfk array and assign the result to jfk_count.\n",
    "2. Calculate how many trips from taxi had Laguardia Airport as their destination:\n",
    "    - Use boolean indexing to select only the rows where the dropoff_location_code column (column index 6) has a value that corresponds to Laguardia. Assign the result to laguardia.\n",
    "    - Calculate how many rows are in the new laguardia array. Assign the result to laguardia_count.\n",
    "3. Calculate how many trips from taxi had Newark Airport as their destination:\n",
    "    - Select only the rows where the dropoff_location_code column has a value that corresponds to Newark, and assign the result to newark.\n",
    "    - Calculate how many rows are in the new newark array and assign the result to newark_count.\n",
    "4. After you have run your code, inspect the values for jfk_count, laguardia_count, and newark_count and see which airport has the most dropoffs."
   ]
  },
  {
   "cell_type": "code",
   "execution_count": 12,
   "metadata": {},
   "outputs": [],
   "source": [
    "jfk = taxi[taxi[:, 6] == 2]\n",
    "jfk_count = jfk.shape[0]\n",
    "\n",
    "laguardia = taxi[taxi[:, 6] == 3]\n",
    "laguardia_count = laguardia.shape[0]\n",
    "\n",
    "newark = taxi[taxi[:, 6] == 5]\n",
    "newark_count = newark.shape[0]"
   ]
  },
  {
   "cell_type": "markdown",
   "metadata": {},
   "source": [
    "### Challenge: Calculating Statistics for Trips on Clean Data\n",
    "\n",
    "The trip_mph ndarray has been provided for you.\n",
    "\n",
    "1. Create a new ndarray, cleaned_taxi, containing only rows for which the values of trip_mph are less than 100.\n",
    "2. Calculate the mean of the trip_distance column of cleaned_taxi. Assign the result to mean_distance.\n",
    "3. Calculate the mean of the trip_length column of cleaned_taxi. Assign the result to mean_length.\n",
    "4. Calculate the mean of the total_amount column of cleaned_taxi. Assign the result to mean_total_amount."
   ]
  },
  {
   "cell_type": "code",
   "execution_count": 13,
   "metadata": {},
   "outputs": [],
   "source": [
    "trip_mph = taxi[:,7] / (taxi[:,8] / 3600)\n",
    "cleaned_taxi = taxi[trip_mph < 100]\n",
    "mean_distance = cleaned_taxi[:, 7].mean()\n",
    "mean_length = cleaned_taxi[:, 8].mean()\n",
    "mean_total_amount = cleaned_taxi[:, 13].mean()"
   ]
  }
 ],
 "metadata": {
  "kernelspec": {
   "display_name": "Python 3",
   "language": "python",
   "name": "python3"
  },
  "language_info": {
   "codemirror_mode": {
    "name": "ipython",
    "version": 3
   },
   "file_extension": ".py",
   "mimetype": "text/x-python",
   "name": "python",
   "nbconvert_exporter": "python",
   "pygments_lexer": "ipython3",
   "version": "3.8.5"
  }
 },
 "nbformat": 4,
 "nbformat_minor": 1
}