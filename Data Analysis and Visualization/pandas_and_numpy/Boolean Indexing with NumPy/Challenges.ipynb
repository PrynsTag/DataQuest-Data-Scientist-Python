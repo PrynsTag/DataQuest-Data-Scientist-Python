{
 "cells": [
  {
   "cell_type": "markdown",
   "metadata": {
    "collapsed": true
   },
   "source": [
    "# Pandas and Numpy Fundamentals"
   ]
  },
  {
   "cell_type": "markdown",
   "metadata": {},
   "source": [
    "## Boolean Indexing with NumPy"
   ]
  },
  {
   "cell_type": "markdown",
   "metadata": {},
   "source": [
    "### Reading CSV files with NumPy\n",
    "\n",
    "Import the NumPy library and assign to the alias np.\n",
    "1. Use the numpy.genfromtxt() function to read the nyc_taxis.csv file into NumPy. Assign the result to taxi.\n",
    "2. Use the ndarray.shape attribute to assign the shape of taxi to taxi_shape.\n",
    "3. Use the variable inspector under the code box to view the taxi ndarray and its shape after running your code."
   ]
  },
  {
   "cell_type": "code",
   "execution_count": 6,
   "metadata": {},
   "outputs": [],
   "source": [
    "import numpy as np\n",
    "taxi = np.genfromtxt(\"../nyc_taxis.csv\", delimiter=\",\")\n",
    "taxi_shape = taxi.shape"
   ]
  },
  {
   "cell_type": "markdown",
   "source": [
    "### Reading CSV files with NumPy Continued\n",
    "\n",
    "1. Use the numpy.genfromtxt() function to again read the nyc_taxis.csv file into NumPy, but this time, skip the first row. Assign the result to taxi.\n",
    "2. Assign the shape of taxi to taxi_shape.\n",
    "3. Use the variable inspector under the code box to view the taxi ndarray and its shape after you have run your code."
   ],
   "metadata": {
    "collapsed": false
   }
  },
  {
   "cell_type": "code",
   "execution_count": null,
   "outputs": [],
   "source": [
    "taxi = np.genfromtxt(\"../nyc_taxis.csv\", delimiter=\",\", skip_header=1)\n",
    "taxi_shape = taxi.shape"
   ],
   "metadata": {
    "collapsed": false,
    "pycharm": {
     "name": "#%%\n"
    }
   }
  },
  {
   "cell_type": "markdown",
   "source": [
    "### Boolean Arrays\n",
    "\n",
    "1. Use vectorized boolean operations to:\n",
    "    - Evaluate whether the elements in array a are less than 3. Assign the result to a_bool.\n",
    "    - Evaluate whether the elements in array b are equal to \"blue\". Assign the result to b_bool.\n",
    "    - Evaluate whether the elements in array c are greater than 100. Assign the result to c_bool.\n",
    "2. Once you've run your code, use the variable inspector below the code box to view each boolean array."
   ],
   "metadata": {
    "collapsed": false
   }
  },
  {
   "cell_type": "code",
   "execution_count": null,
   "outputs": [],
   "source": [
    "a = np.array([1, 2, 3, 4, 5])\n",
    "b = np.array([\"blue\", \"blue\", \"red\", \"blue\"])\n",
    "c = np.array([80.0, 103.4, 96.9, 200.3])\n",
    "\n",
    "a_bool = a < 3\n",
    "b_bool = b == \"blue\"\n",
    "c_bool = c > 100"
   ],
   "metadata": {
    "collapsed": false,
    "pycharm": {
     "name": "#%%\n"
    }
   }
  },
  {
   "cell_type": "markdown",
   "source": [
    "### Boolean Indexing with 1D ndarrays\n",
    "\n",
    "1. Calculate the number of rides in the taxi ndarray that are from February:\n",
    "     - Create a boolean array, february_bool, that evaluates whether the items in pickup_month are equal to 2.\n",
    "     - Use the february_bool boolean array to index pickup_month. Assign the result to february.\n",
    "     - Use the ndarray.shape attribute to find the number of items in february. Assign the result to february_rides.\n",
    "2. Once you have run your code, use the variable inspector to view the number of rides for February."
   ],
   "metadata": {
    "collapsed": false
   }
  },
  {
   "cell_type": "code",
   "execution_count": null,
   "outputs": [],
   "source": [
    "pickup_month = taxi[:,1]\n",
    "\n",
    "january_bool = pickup_month == 1\n",
    "january = pickup_month[january_bool]\n",
    "january_rides = january.shape[0]"
   ],
   "metadata": {
    "collapsed": false,
    "pycharm": {
     "name": "#%%\n"
    }
   }
  },
  {
   "cell_type": "markdown",
   "metadata": {},
   "source": [
    "pickup_month = taxi[:,1]\n",
    "\n",
    "january_bool = pickup_month == 1\n",
    "january = pickup_month[january_bool]\n",
    "january_rides = january.shape[0]"
   ]
  },
  {
   "cell_type": "code",
   "execution_count": 11,
   "metadata": {},
   "outputs": [],
   "source": [
    "taxi = np.genfromtxt(\"../nyc_taxis.csv\", delimiter=\",\", skip_header=1)\n",
    "taxi_shape = taxi.shape"
   ]
  },
  {
   "cell_type": "markdown",
   "metadata": {},
   "source": [
    "### Boolean Arrays\n",
    "\n",
    "1. Use vectorized boolean operations to:\n",
    "    - Evaluate whether the elements in array a are less than 3. Assign the result to a_bool.\n",
    "    - Evaluate whether the elements in array b are equal to \"blue\". Assign the result to b_bool.\n",
    "    - Evaluate whether the elements in array c are greater than 100. Assign the result to c_bool.\n",
    "2. Once you've run your code, use the variable inspector below the code box to view each boolean array."
   ]
  },
  {
   "cell_type": "code",
   "execution_count": 14,
   "metadata": {},
   "outputs": [
    {
     "data": {
      "text/plain": [
       "array([ True,  True, False, False, False])"
      ]
     },
     "execution_count": 14,
     "metadata": {},
     "output_type": "execute_result"
    }
   ],
   "source": [
    "a = np.array([1, 2, 3, 4, 5])\n",
    "b = np.array([\"blue\", \"blue\", \"red\", \"blue\"])\n",
    "c = np.array([80.0, 103.4, 96.9, 200.3])\n",
    "\n",
    "a_bool = a < 3\n",
    "b_bool = b == \"blue\"\n",
    "c_bool = c > 100"
   ]
  },
  {
   "cell_type": "markdown",
   "metadata": {},
   "source": [
    "### Boolean Indexing with 1D ndarrays\n",
    "\n",
    "1. Calculate the number of rides in the taxi ndarray that are from February:\n",
    "     - Create a boolean array, february_bool, that evaluates whether the items in pickup_month are equal to 2.\n",
    "     - Use the february_bool boolean array to index pickup_month. Assign the result to february.\n",
    "     - Use the ndarray.shape attribute to find the number of items in february. Assign the result to february_rides.\n",
    "2. Once you have run your code, use the variable inspector to view the number of rides for February."
   ]
  },
  {
   "cell_type": "code",
   "execution_count": 15,
   "metadata": {},
   "outputs": [],
   "source": [
    "pickup_month = taxi[:,1]\n",
    "\n",
    "january_bool = pickup_month == 1\n",
    "january = pickup_month[january_bool]\n",
    "january_rides = january.shape[0]"
   ]
  }
 ],
 "metadata": {
  "kernelspec": {
   "display_name": "Python 3",
   "language": "python",
   "name": "python3"
  },
  "language_info": {
   "codemirror_mode": {
    "name": "ipython",
    "version": 3
   },
   "file_extension": ".py",
   "mimetype": "text/x-python",
   "name": "python",
   "nbconvert_exporter": "python",
   "pygments_lexer": "ipython3",
   "version": "3.8.5"
  }
 },
 "nbformat": 4,
 "nbformat_minor": 1
}