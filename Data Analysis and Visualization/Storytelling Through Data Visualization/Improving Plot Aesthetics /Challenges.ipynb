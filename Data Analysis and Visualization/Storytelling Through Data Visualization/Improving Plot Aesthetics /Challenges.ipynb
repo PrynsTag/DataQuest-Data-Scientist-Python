{
 "cells": [
  {
   "cell_type": "markdown",
   "metadata": {
    "collapsed": true
   },
   "source": [
    "# Storytelling Through Data Visualization\n",
    "## Improving Plot Aesthetics"
   ]
  },
  {
   "cell_type": "markdown",
   "metadata": {},
   "source": [
    "### Introduction To The Data\n",
    "- Generate a line chart that visualizes the historical percentage of Biology degrees awarded to women:\n",
    "     - Set the x-axis to the Year column from women_degrees.\n",
    "     - Set the y-axis to the Biology column from women_degrees.\n",
    "- Display the plot."
   ]
  },
  {
   "cell_type": "markdown",
   "metadata": {
    "heading_collapsed": true
   },
   "source": [
    "#### Import Statements"
   ]
  },
  {
   "cell_type": "code",
   "execution_count": 1,
   "metadata": {
    "ExecuteTime": {
     "end_time": "2020-12-26T04:47:00.895616Z",
     "start_time": "2020-12-26T04:47:00.614326Z"
    },
    "hidden": true,
    "hide_input": true
   },
   "outputs": [],
   "source": [
    "import numpy as np\n",
    "import pandas as pd\n",
    "import matplotlib.pyplot as plt"
   ]
  },
  {
   "cell_type": "markdown",
   "metadata": {
    "heading_collapsed": true
   },
   "source": [
    "####  Importing the Dataset"
   ]
  },
  {
   "cell_type": "code",
   "execution_count": 2,
   "metadata": {
    "ExecuteTime": {
     "end_time": "2020-12-26T04:47:27.064549Z",
     "start_time": "2020-12-26T04:47:27.057485Z"
    },
    "hidden": true,
    "hide_input": true
   },
   "outputs": [],
   "source": [
    "women_degrees = pd.read_csv('../percent-bachelors-degrees-women-usa.csv')"
   ]
  },
  {
   "cell_type": "markdown",
   "metadata": {
    "heading_collapsed": true
   },
   "source": [
    "#### Exploring the Data"
   ]
  },
  {
   "cell_type": "code",
   "execution_count": 24,
   "metadata": {
    "ExecuteTime": {
     "end_time": "2020-12-26T05:22:34.399970Z",
     "start_time": "2020-12-26T05:22:34.378001Z"
    },
    "hidden": true
   },
   "outputs": [
    {
     "data": {
      "text/html": [
       "<div>\n",
       "<style scoped>\n",
       "    .dataframe tbody tr th:only-of-type {\n",
       "        vertical-align: middle;\n",
       "    }\n",
       "\n",
       "    .dataframe tbody tr th {\n",
       "        vertical-align: top;\n",
       "    }\n",
       "\n",
       "    .dataframe thead th {\n",
       "        text-align: right;\n",
       "    }\n",
       "</style>\n",
       "<table border=\"1\" class=\"dataframe\">\n",
       "  <thead>\n",
       "    <tr style=\"text-align: right;\">\n",
       "      <th></th>\n",
       "      <th>Year</th>\n",
       "      <th>Agriculture</th>\n",
       "      <th>Architecture</th>\n",
       "      <th>Art and Performance</th>\n",
       "      <th>Biology</th>\n",
       "      <th>Business</th>\n",
       "      <th>Communications and Journalism</th>\n",
       "      <th>Computer Science</th>\n",
       "      <th>Education</th>\n",
       "      <th>Engineering</th>\n",
       "      <th>English</th>\n",
       "      <th>Foreign Languages</th>\n",
       "      <th>Health Professions</th>\n",
       "      <th>Math and Statistics</th>\n",
       "      <th>Physical Sciences</th>\n",
       "      <th>Psychology</th>\n",
       "      <th>Public Administration</th>\n",
       "      <th>Social Sciences and History</th>\n",
       "    </tr>\n",
       "  </thead>\n",
       "  <tbody>\n",
       "    <tr>\n",
       "      <th>0</th>\n",
       "      <td>1970</td>\n",
       "      <td>4.229798</td>\n",
       "      <td>11.921005</td>\n",
       "      <td>59.7</td>\n",
       "      <td>29.088363</td>\n",
       "      <td>9.064439</td>\n",
       "      <td>35.3</td>\n",
       "      <td>13.6</td>\n",
       "      <td>74.535328</td>\n",
       "      <td>0.8</td>\n",
       "      <td>65.570923</td>\n",
       "      <td>73.8</td>\n",
       "      <td>77.1</td>\n",
       "      <td>38.0</td>\n",
       "      <td>13.8</td>\n",
       "      <td>44.4</td>\n",
       "      <td>68.4</td>\n",
       "      <td>36.8</td>\n",
       "    </tr>\n",
       "    <tr>\n",
       "      <th>1</th>\n",
       "      <td>1971</td>\n",
       "      <td>5.452797</td>\n",
       "      <td>12.003106</td>\n",
       "      <td>59.9</td>\n",
       "      <td>29.394403</td>\n",
       "      <td>9.503187</td>\n",
       "      <td>35.5</td>\n",
       "      <td>13.6</td>\n",
       "      <td>74.149204</td>\n",
       "      <td>1.0</td>\n",
       "      <td>64.556485</td>\n",
       "      <td>73.9</td>\n",
       "      <td>75.5</td>\n",
       "      <td>39.0</td>\n",
       "      <td>14.9</td>\n",
       "      <td>46.2</td>\n",
       "      <td>65.5</td>\n",
       "      <td>36.2</td>\n",
       "    </tr>\n",
       "    <tr>\n",
       "      <th>2</th>\n",
       "      <td>1972</td>\n",
       "      <td>7.420710</td>\n",
       "      <td>13.214594</td>\n",
       "      <td>60.4</td>\n",
       "      <td>29.810221</td>\n",
       "      <td>10.558962</td>\n",
       "      <td>36.6</td>\n",
       "      <td>14.9</td>\n",
       "      <td>73.554520</td>\n",
       "      <td>1.2</td>\n",
       "      <td>63.664263</td>\n",
       "      <td>74.6</td>\n",
       "      <td>76.9</td>\n",
       "      <td>40.2</td>\n",
       "      <td>14.8</td>\n",
       "      <td>47.6</td>\n",
       "      <td>62.6</td>\n",
       "      <td>36.1</td>\n",
       "    </tr>\n",
       "    <tr>\n",
       "      <th>3</th>\n",
       "      <td>1973</td>\n",
       "      <td>9.653602</td>\n",
       "      <td>14.791613</td>\n",
       "      <td>60.2</td>\n",
       "      <td>31.147915</td>\n",
       "      <td>12.804602</td>\n",
       "      <td>38.4</td>\n",
       "      <td>16.4</td>\n",
       "      <td>73.501814</td>\n",
       "      <td>1.6</td>\n",
       "      <td>62.941502</td>\n",
       "      <td>74.9</td>\n",
       "      <td>77.4</td>\n",
       "      <td>40.9</td>\n",
       "      <td>16.5</td>\n",
       "      <td>50.4</td>\n",
       "      <td>64.3</td>\n",
       "      <td>36.4</td>\n",
       "    </tr>\n",
       "    <tr>\n",
       "      <th>4</th>\n",
       "      <td>1974</td>\n",
       "      <td>14.074623</td>\n",
       "      <td>17.444688</td>\n",
       "      <td>61.9</td>\n",
       "      <td>32.996183</td>\n",
       "      <td>16.204850</td>\n",
       "      <td>40.5</td>\n",
       "      <td>18.9</td>\n",
       "      <td>73.336811</td>\n",
       "      <td>2.2</td>\n",
       "      <td>62.413412</td>\n",
       "      <td>75.3</td>\n",
       "      <td>77.9</td>\n",
       "      <td>41.8</td>\n",
       "      <td>18.2</td>\n",
       "      <td>52.6</td>\n",
       "      <td>66.1</td>\n",
       "      <td>37.3</td>\n",
       "    </tr>\n",
       "  </tbody>\n",
       "</table>\n",
       "</div>"
      ],
      "text/plain": [
       "   Year  Agriculture  Architecture  Art and Performance    Biology   Business  Communications and Journalism  Computer Science  Education  Engineering    English  Foreign Languages  Health Professions  Math and Statistics  Physical Sciences  Psychology  Public Administration  Social Sciences and History\n",
       "0  1970     4.229798     11.921005                 59.7  29.088363   9.064439                           35.3              13.6  74.535328          0.8  65.570923               73.8                77.1                 38.0               13.8        44.4                   68.4                         36.8\n",
       "1  1971     5.452797     12.003106                 59.9  29.394403   9.503187                           35.5              13.6  74.149204          1.0  64.556485               73.9                75.5                 39.0               14.9        46.2                   65.5                         36.2\n",
       "2  1972     7.420710     13.214594                 60.4  29.810221  10.558962                           36.6              14.9  73.554520          1.2  63.664263               74.6                76.9                 40.2               14.8        47.6                   62.6                         36.1\n",
       "3  1973     9.653602     14.791613                 60.2  31.147915  12.804602                           38.4              16.4  73.501814          1.6  62.941502               74.9                77.4                 40.9               16.5        50.4                   64.3                         36.4\n",
       "4  1974    14.074623     17.444688                 61.9  32.996183  16.204850                           40.5              18.9  73.336811          2.2  62.413412               75.3                77.9                 41.8               18.2        52.6                   66.1                         37.3"
      ]
     },
     "execution_count": 24,
     "metadata": {},
     "output_type": "execute_result"
    }
   ],
   "source": [
    "women_degrees.head()"
   ]
  },
  {
   "cell_type": "code",
   "execution_count": 25,
   "metadata": {
    "ExecuteTime": {
     "end_time": "2020-12-26T05:22:41.844434Z",
     "start_time": "2020-12-26T05:22:41.823032Z"
    },
    "hidden": true
   },
   "outputs": [
    {
     "data": {
      "text/html": [
       "<div>\n",
       "<style scoped>\n",
       "    .dataframe tbody tr th:only-of-type {\n",
       "        vertical-align: middle;\n",
       "    }\n",
       "\n",
       "    .dataframe tbody tr th {\n",
       "        vertical-align: top;\n",
       "    }\n",
       "\n",
       "    .dataframe thead th {\n",
       "        text-align: right;\n",
       "    }\n",
       "</style>\n",
       "<table border=\"1\" class=\"dataframe\">\n",
       "  <thead>\n",
       "    <tr style=\"text-align: right;\">\n",
       "      <th></th>\n",
       "      <th>Year</th>\n",
       "      <th>Agriculture</th>\n",
       "      <th>Architecture</th>\n",
       "      <th>Art and Performance</th>\n",
       "      <th>Biology</th>\n",
       "      <th>Business</th>\n",
       "      <th>Communications and Journalism</th>\n",
       "      <th>Computer Science</th>\n",
       "      <th>Education</th>\n",
       "      <th>Engineering</th>\n",
       "      <th>English</th>\n",
       "      <th>Foreign Languages</th>\n",
       "      <th>Health Professions</th>\n",
       "      <th>Math and Statistics</th>\n",
       "      <th>Physical Sciences</th>\n",
       "      <th>Psychology</th>\n",
       "      <th>Public Administration</th>\n",
       "      <th>Social Sciences and History</th>\n",
       "    </tr>\n",
       "  </thead>\n",
       "  <tbody>\n",
       "    <tr>\n",
       "      <th>37</th>\n",
       "      <td>2007</td>\n",
       "      <td>47.605026</td>\n",
       "      <td>43.100459</td>\n",
       "      <td>61.4</td>\n",
       "      <td>59.411993</td>\n",
       "      <td>49.000459</td>\n",
       "      <td>62.5</td>\n",
       "      <td>17.6</td>\n",
       "      <td>78.721413</td>\n",
       "      <td>16.8</td>\n",
       "      <td>67.874923</td>\n",
       "      <td>70.2</td>\n",
       "      <td>85.4</td>\n",
       "      <td>44.1</td>\n",
       "      <td>40.7</td>\n",
       "      <td>77.1</td>\n",
       "      <td>82.1</td>\n",
       "      <td>49.3</td>\n",
       "    </tr>\n",
       "    <tr>\n",
       "      <th>38</th>\n",
       "      <td>2008</td>\n",
       "      <td>47.570834</td>\n",
       "      <td>42.711730</td>\n",
       "      <td>60.7</td>\n",
       "      <td>59.305765</td>\n",
       "      <td>48.888027</td>\n",
       "      <td>62.4</td>\n",
       "      <td>17.8</td>\n",
       "      <td>79.196327</td>\n",
       "      <td>16.5</td>\n",
       "      <td>67.594028</td>\n",
       "      <td>70.2</td>\n",
       "      <td>85.2</td>\n",
       "      <td>43.3</td>\n",
       "      <td>40.7</td>\n",
       "      <td>77.2</td>\n",
       "      <td>81.7</td>\n",
       "      <td>49.4</td>\n",
       "    </tr>\n",
       "    <tr>\n",
       "      <th>39</th>\n",
       "      <td>2009</td>\n",
       "      <td>48.667224</td>\n",
       "      <td>43.348921</td>\n",
       "      <td>61.0</td>\n",
       "      <td>58.489583</td>\n",
       "      <td>48.840474</td>\n",
       "      <td>62.8</td>\n",
       "      <td>18.1</td>\n",
       "      <td>79.532909</td>\n",
       "      <td>16.8</td>\n",
       "      <td>67.969792</td>\n",
       "      <td>69.3</td>\n",
       "      <td>85.1</td>\n",
       "      <td>43.3</td>\n",
       "      <td>40.7</td>\n",
       "      <td>77.1</td>\n",
       "      <td>82.0</td>\n",
       "      <td>49.4</td>\n",
       "    </tr>\n",
       "    <tr>\n",
       "      <th>40</th>\n",
       "      <td>2010</td>\n",
       "      <td>48.730042</td>\n",
       "      <td>42.066721</td>\n",
       "      <td>61.3</td>\n",
       "      <td>59.010255</td>\n",
       "      <td>48.757988</td>\n",
       "      <td>62.5</td>\n",
       "      <td>17.6</td>\n",
       "      <td>79.618625</td>\n",
       "      <td>17.2</td>\n",
       "      <td>67.928106</td>\n",
       "      <td>69.0</td>\n",
       "      <td>85.0</td>\n",
       "      <td>43.1</td>\n",
       "      <td>40.2</td>\n",
       "      <td>77.0</td>\n",
       "      <td>81.7</td>\n",
       "      <td>49.3</td>\n",
       "    </tr>\n",
       "    <tr>\n",
       "      <th>41</th>\n",
       "      <td>2011</td>\n",
       "      <td>50.037182</td>\n",
       "      <td>42.773438</td>\n",
       "      <td>61.2</td>\n",
       "      <td>58.742397</td>\n",
       "      <td>48.180418</td>\n",
       "      <td>62.2</td>\n",
       "      <td>18.2</td>\n",
       "      <td>79.432812</td>\n",
       "      <td>17.5</td>\n",
       "      <td>68.426730</td>\n",
       "      <td>69.5</td>\n",
       "      <td>84.8</td>\n",
       "      <td>43.1</td>\n",
       "      <td>40.1</td>\n",
       "      <td>76.7</td>\n",
       "      <td>81.9</td>\n",
       "      <td>49.2</td>\n",
       "    </tr>\n",
       "  </tbody>\n",
       "</table>\n",
       "</div>"
      ],
      "text/plain": [
       "    Year  Agriculture  Architecture  Art and Performance    Biology   Business  Communications and Journalism  Computer Science  Education  Engineering    English  Foreign Languages  Health Professions  Math and Statistics  Physical Sciences  Psychology  Public Administration  Social Sciences and History\n",
       "37  2007    47.605026     43.100459                 61.4  59.411993  49.000459                           62.5              17.6  78.721413         16.8  67.874923               70.2                85.4                 44.1               40.7        77.1                   82.1                         49.3\n",
       "38  2008    47.570834     42.711730                 60.7  59.305765  48.888027                           62.4              17.8  79.196327         16.5  67.594028               70.2                85.2                 43.3               40.7        77.2                   81.7                         49.4\n",
       "39  2009    48.667224     43.348921                 61.0  58.489583  48.840474                           62.8              18.1  79.532909         16.8  67.969792               69.3                85.1                 43.3               40.7        77.1                   82.0                         49.4\n",
       "40  2010    48.730042     42.066721                 61.3  59.010255  48.757988                           62.5              17.6  79.618625         17.2  67.928106               69.0                85.0                 43.1               40.2        77.0                   81.7                         49.3\n",
       "41  2011    50.037182     42.773438                 61.2  58.742397  48.180418                           62.2              18.2  79.432812         17.5  68.426730               69.5                84.8                 43.1               40.1        76.7                   81.9                         49.2"
      ]
     },
     "execution_count": 25,
     "metadata": {},
     "output_type": "execute_result"
    }
   ],
   "source": [
    "women_degrees.tail()"
   ]
  },
  {
   "cell_type": "code",
   "execution_count": 27,
   "metadata": {
    "ExecuteTime": {
     "end_time": "2020-12-26T05:25:21.860617Z",
     "start_time": "2020-12-26T05:25:21.850353Z"
    },
    "hidden": true
   },
   "outputs": [
    {
     "name": "stdout",
     "output_type": "stream",
     "text": [
      "<class 'pandas.core.frame.DataFrame'>\n",
      "RangeIndex: 42 entries, 0 to 41\n",
      "Data columns (total 18 columns):\n",
      " #   Column                         Non-Null Count  Dtype  \n",
      "---  ------                         --------------  -----  \n",
      " 0   Year                           42 non-null     int64  \n",
      " 1   Agriculture                    42 non-null     float64\n",
      " 2   Architecture                   42 non-null     float64\n",
      " 3   Art and Performance            42 non-null     float64\n",
      " 4   Biology                        42 non-null     float64\n",
      " 5   Business                       42 non-null     float64\n",
      " 6   Communications and Journalism  42 non-null     float64\n",
      " 7   Computer Science               42 non-null     float64\n",
      " 8   Education                      42 non-null     float64\n",
      " 9   Engineering                    42 non-null     float64\n",
      " 10  English                        42 non-null     float64\n",
      " 11  Foreign Languages              42 non-null     float64\n",
      " 12  Health Professions             42 non-null     float64\n",
      " 13  Math and Statistics            42 non-null     float64\n",
      " 14  Physical Sciences              42 non-null     float64\n",
      " 15  Psychology                     42 non-null     float64\n",
      " 16  Public Administration          42 non-null     float64\n",
      " 17  Social Sciences and History    42 non-null     float64\n",
      "dtypes: float64(17), int64(1)\n",
      "memory usage: 6.0 KB\n"
     ]
    }
   ],
   "source": [
    "women_degrees.info()"
   ]
  },
  {
   "cell_type": "code",
   "execution_count": 28,
   "metadata": {
    "ExecuteTime": {
     "end_time": "2020-12-26T05:25:36.919030Z",
     "start_time": "2020-12-26T05:25:36.872633Z"
    },
    "hidden": true
   },
   "outputs": [
    {
     "data": {
      "text/html": [
       "<div>\n",
       "<style scoped>\n",
       "    .dataframe tbody tr th:only-of-type {\n",
       "        vertical-align: middle;\n",
       "    }\n",
       "\n",
       "    .dataframe tbody tr th {\n",
       "        vertical-align: top;\n",
       "    }\n",
       "\n",
       "    .dataframe thead th {\n",
       "        text-align: right;\n",
       "    }\n",
       "</style>\n",
       "<table border=\"1\" class=\"dataframe\">\n",
       "  <thead>\n",
       "    <tr style=\"text-align: right;\">\n",
       "      <th></th>\n",
       "      <th>Year</th>\n",
       "      <th>Agriculture</th>\n",
       "      <th>Architecture</th>\n",
       "      <th>Art and Performance</th>\n",
       "      <th>Biology</th>\n",
       "      <th>Business</th>\n",
       "      <th>Communications and Journalism</th>\n",
       "      <th>Computer Science</th>\n",
       "      <th>Education</th>\n",
       "      <th>Engineering</th>\n",
       "      <th>English</th>\n",
       "      <th>Foreign Languages</th>\n",
       "      <th>Health Professions</th>\n",
       "      <th>Math and Statistics</th>\n",
       "      <th>Physical Sciences</th>\n",
       "      <th>Psychology</th>\n",
       "      <th>Public Administration</th>\n",
       "      <th>Social Sciences and History</th>\n",
       "    </tr>\n",
       "  </thead>\n",
       "  <tbody>\n",
       "    <tr>\n",
       "      <th>count</th>\n",
       "      <td>42.000000</td>\n",
       "      <td>42.000000</td>\n",
       "      <td>42.000000</td>\n",
       "      <td>42.000000</td>\n",
       "      <td>42.000000</td>\n",
       "      <td>42.000000</td>\n",
       "      <td>42.000000</td>\n",
       "      <td>42.000000</td>\n",
       "      <td>42.000000</td>\n",
       "      <td>42.000000</td>\n",
       "      <td>42.000000</td>\n",
       "      <td>42.000000</td>\n",
       "      <td>42.000000</td>\n",
       "      <td>42.000000</td>\n",
       "      <td>42.000000</td>\n",
       "      <td>42.000000</td>\n",
       "      <td>42.000000</td>\n",
       "      <td>42.000000</td>\n",
       "    </tr>\n",
       "    <tr>\n",
       "      <th>mean</th>\n",
       "      <td>1990.500000</td>\n",
       "      <td>33.848165</td>\n",
       "      <td>33.685540</td>\n",
       "      <td>61.100000</td>\n",
       "      <td>49.429864</td>\n",
       "      <td>40.653471</td>\n",
       "      <td>56.216667</td>\n",
       "      <td>25.809524</td>\n",
       "      <td>76.356236</td>\n",
       "      <td>12.892857</td>\n",
       "      <td>66.186680</td>\n",
       "      <td>71.723810</td>\n",
       "      <td>82.983333</td>\n",
       "      <td>44.478571</td>\n",
       "      <td>31.304762</td>\n",
       "      <td>68.776190</td>\n",
       "      <td>76.085714</td>\n",
       "      <td>45.407143</td>\n",
       "    </tr>\n",
       "    <tr>\n",
       "      <th>std</th>\n",
       "      <td>12.267844</td>\n",
       "      <td>12.552731</td>\n",
       "      <td>9.574057</td>\n",
       "      <td>1.305336</td>\n",
       "      <td>10.087725</td>\n",
       "      <td>13.116109</td>\n",
       "      <td>8.698610</td>\n",
       "      <td>6.688753</td>\n",
       "      <td>2.212641</td>\n",
       "      <td>5.670824</td>\n",
       "      <td>1.950990</td>\n",
       "      <td>1.926682</td>\n",
       "      <td>2.914967</td>\n",
       "      <td>2.646262</td>\n",
       "      <td>9.000866</td>\n",
       "      <td>9.705463</td>\n",
       "      <td>5.879504</td>\n",
       "      <td>4.763653</td>\n",
       "    </tr>\n",
       "    <tr>\n",
       "      <th>min</th>\n",
       "      <td>1970.000000</td>\n",
       "      <td>4.229798</td>\n",
       "      <td>11.921005</td>\n",
       "      <td>58.600000</td>\n",
       "      <td>29.088363</td>\n",
       "      <td>9.064439</td>\n",
       "      <td>35.300000</td>\n",
       "      <td>13.600000</td>\n",
       "      <td>72.166525</td>\n",
       "      <td>0.800000</td>\n",
       "      <td>61.647206</td>\n",
       "      <td>69.000000</td>\n",
       "      <td>75.500000</td>\n",
       "      <td>38.000000</td>\n",
       "      <td>13.800000</td>\n",
       "      <td>44.400000</td>\n",
       "      <td>62.600000</td>\n",
       "      <td>36.100000</td>\n",
       "    </tr>\n",
       "    <tr>\n",
       "      <th>25%</th>\n",
       "      <td>1980.250000</td>\n",
       "      <td>30.840814</td>\n",
       "      <td>28.520709</td>\n",
       "      <td>60.200000</td>\n",
       "      <td>44.311821</td>\n",
       "      <td>37.390851</td>\n",
       "      <td>55.125000</td>\n",
       "      <td>19.125000</td>\n",
       "      <td>74.994573</td>\n",
       "      <td>10.625000</td>\n",
       "      <td>65.583807</td>\n",
       "      <td>70.125000</td>\n",
       "      <td>81.825000</td>\n",
       "      <td>42.875000</td>\n",
       "      <td>24.875000</td>\n",
       "      <td>65.550000</td>\n",
       "      <td>74.625000</td>\n",
       "      <td>43.825000</td>\n",
       "    </tr>\n",
       "    <tr>\n",
       "      <th>50%</th>\n",
       "      <td>1990.500000</td>\n",
       "      <td>33.317552</td>\n",
       "      <td>35.994852</td>\n",
       "      <td>61.300000</td>\n",
       "      <td>50.971469</td>\n",
       "      <td>47.210123</td>\n",
       "      <td>59.850000</td>\n",
       "      <td>27.300000</td>\n",
       "      <td>75.937020</td>\n",
       "      <td>14.100000</td>\n",
       "      <td>66.112018</td>\n",
       "      <td>71.150000</td>\n",
       "      <td>83.700000</td>\n",
       "      <td>44.900000</td>\n",
       "      <td>32.100000</td>\n",
       "      <td>72.750000</td>\n",
       "      <td>77.450000</td>\n",
       "      <td>45.300000</td>\n",
       "    </tr>\n",
       "    <tr>\n",
       "      <th>75%</th>\n",
       "      <td>2000.750000</td>\n",
       "      <td>45.663953</td>\n",
       "      <td>40.790605</td>\n",
       "      <td>62.000000</td>\n",
       "      <td>58.679194</td>\n",
       "      <td>48.876139</td>\n",
       "      <td>62.125000</td>\n",
       "      <td>29.775000</td>\n",
       "      <td>78.619420</td>\n",
       "      <td>16.950000</td>\n",
       "      <td>67.861247</td>\n",
       "      <td>73.875000</td>\n",
       "      <td>85.175000</td>\n",
       "      <td>46.500000</td>\n",
       "      <td>40.200000</td>\n",
       "      <td>76.925000</td>\n",
       "      <td>81.100000</td>\n",
       "      <td>49.375000</td>\n",
       "    </tr>\n",
       "    <tr>\n",
       "      <th>max</th>\n",
       "      <td>2011.000000</td>\n",
       "      <td>50.037182</td>\n",
       "      <td>44.499331</td>\n",
       "      <td>63.400000</td>\n",
       "      <td>62.169456</td>\n",
       "      <td>50.552335</td>\n",
       "      <td>64.600000</td>\n",
       "      <td>37.100000</td>\n",
       "      <td>79.618625</td>\n",
       "      <td>19.000000</td>\n",
       "      <td>68.894487</td>\n",
       "      <td>75.300000</td>\n",
       "      <td>86.500000</td>\n",
       "      <td>48.300000</td>\n",
       "      <td>42.200000</td>\n",
       "      <td>77.800000</td>\n",
       "      <td>82.100000</td>\n",
       "      <td>51.800000</td>\n",
       "    </tr>\n",
       "  </tbody>\n",
       "</table>\n",
       "</div>"
      ],
      "text/plain": [
       "              Year  Agriculture  Architecture  Art and Performance    Biology   Business  Communications and Journalism  Computer Science  Education  Engineering    English  Foreign Languages  Health Professions  Math and Statistics  Physical Sciences  Psychology  Public Administration  Social Sciences and History\n",
       "count    42.000000    42.000000     42.000000            42.000000  42.000000  42.000000                      42.000000         42.000000  42.000000    42.000000  42.000000          42.000000           42.000000            42.000000          42.000000   42.000000              42.000000                    42.000000\n",
       "mean   1990.500000    33.848165     33.685540            61.100000  49.429864  40.653471                      56.216667         25.809524  76.356236    12.892857  66.186680          71.723810           82.983333            44.478571          31.304762   68.776190              76.085714                    45.407143\n",
       "std      12.267844    12.552731      9.574057             1.305336  10.087725  13.116109                       8.698610          6.688753   2.212641     5.670824   1.950990           1.926682            2.914967             2.646262           9.000866    9.705463               5.879504                     4.763653\n",
       "min    1970.000000     4.229798     11.921005            58.600000  29.088363   9.064439                      35.300000         13.600000  72.166525     0.800000  61.647206          69.000000           75.500000            38.000000          13.800000   44.400000              62.600000                    36.100000\n",
       "25%    1980.250000    30.840814     28.520709            60.200000  44.311821  37.390851                      55.125000         19.125000  74.994573    10.625000  65.583807          70.125000           81.825000            42.875000          24.875000   65.550000              74.625000                    43.825000\n",
       "50%    1990.500000    33.317552     35.994852            61.300000  50.971469  47.210123                      59.850000         27.300000  75.937020    14.100000  66.112018          71.150000           83.700000            44.900000          32.100000   72.750000              77.450000                    45.300000\n",
       "75%    2000.750000    45.663953     40.790605            62.000000  58.679194  48.876139                      62.125000         29.775000  78.619420    16.950000  67.861247          73.875000           85.175000            46.500000          40.200000   76.925000              81.100000                    49.375000\n",
       "max    2011.000000    50.037182     44.499331            63.400000  62.169456  50.552335                      64.600000         37.100000  79.618625    19.000000  68.894487          75.300000           86.500000            48.300000          42.200000   77.800000              82.100000                    51.800000"
      ]
     },
     "execution_count": 28,
     "metadata": {},
     "output_type": "execute_result"
    }
   ],
   "source": [
    "women_degrees.describe()"
   ]
  },
  {
   "cell_type": "markdown",
   "metadata": {},
   "source": [
    "#### Stylistics"
   ]
  },
  {
   "cell_type": "code",
   "execution_count": 15,
   "metadata": {
    "ExecuteTime": {
     "end_time": "2020-12-26T05:15:39.011768Z",
     "start_time": "2020-12-26T05:15:39.007124Z"
    },
    "hide_input": true
   },
   "outputs": [],
   "source": [
    "%matplotlib inline\n",
    "plt.style.use(\"dark_background\")\n",
    "pd.set_option(\"display.max_row\", 500)\n",
    "pd.set_option(\"display.max_columns\", 500)\n",
    "pd.set_option(\"display.width\", 1000)"
   ]
  },
  {
   "cell_type": "code",
   "execution_count": 23,
   "metadata": {
    "ExecuteTime": {
     "end_time": "2020-12-26T05:22:00.724789Z",
     "start_time": "2020-12-26T05:22:00.626376Z"
    },
    "hide_input": true
   },
   "outputs": [
    {
     "data": {
      "image/png": "[encoded data removed]",
      "text/plain": [
       "<Figure size 432x288 with 1 Axes>"
      ]
     },
     "metadata": {},
     "output_type": "display_data"
    }
   ],
   "source": [
    "_ = plt.plot(\"Year\", \"Biology\", data=women_degrees)\n",
    "_ = plt.title(\"Year vs Biology\")\n",
    "_ = plt.xlabel(\"Year\")\n",
    "_ = plt.ylabel(\"Biology\")"
   ]
  },
  {
   "cell_type": "markdown",
   "metadata": {},
   "source": [
    "### Visualizing The Gender Gap"
   ]
  },
  {
   "cell_type": "markdown",
   "metadata": {},
   "source": [
    "- Generate 2 line charts on the same figure:\n",
    "    - One that visualizes the percentages of Biology degrees awarded to women over time. Set the line color to \"blue\" and the label to \"Women\".\n",
    "    - One that visualizes the percentages of Biology degrees awarded to men over time. Set the line color to \"green\" and the label to \"Men\".\n",
    "- Set the title of the chart to \"Percentage of Biology Degrees Awarded By Gender\".\n",
    "- Generate a legend and place it in the \"upper right\" location.\n",
    "- Display the chart."
   ]
  },
  {
   "cell_type": "code",
   "execution_count": 54,
   "metadata": {
    "ExecuteTime": {
     "end_time": "2020-12-26T06:17:12.697349Z",
     "start_time": "2020-12-26T06:17:12.597498Z"
    },
    "hide_input": true
   },
   "outputs": [
    {
     "data": {
      "image/png": "[encoded data removed]",
      "text/plain": [
       "<Figure size 432x288 with 1 Axes>"
      ]
     },
     "metadata": {},
     "output_type": "display_data"
    }
   ],
   "source": [
    "_ = plt.plot(\"Year\", \"Biology\", data=women_degrees, c=\"b\", label=\"Women\")\n",
    "_ = plt.plot(women_degrees[\"Year\"], 100-women_degrees[\"Biology\"], c=\"g\", label=\"Men\")\n",
    "_ = plt.legend(loc=\"upper right\")\n",
    "_ = plt.title(\"Percentage of Biology Degrees Awarded By Gender\")"
   ]
  },
  {
   "cell_type": "markdown",
   "metadata": {},
   "source": [
    "### Hiding Tick Marks\n",
    "- Generate 2 line charts in the same plotting area:\n",
    "    - One that visualizes the percentages of Biology degrees awarded to women over time. Set the line color to \"blue\" and the label to \"Women\". For answer checking purposes, make sure you start with this chart.\n",
    "    - One that visualizes the percentages of Biology degrees awarded to men over time. Set the line color to \"green\" and the label to \"Men\".\n",
    "- Remove all of the tick marks.\n",
    "- Set the title of the plot to \"Percentage of Biology Degrees Awarded By Gender\".\n",
    "- Generate a legend and place it in the \"upper right\" location.\n",
    "- Display the chart."
   ]
  },
  {
   "cell_type": "code",
   "execution_count": 59,
   "metadata": {
    "ExecuteTime": {
     "end_time": "2020-12-26T06:20:09.133811Z",
     "start_time": "2020-12-26T06:20:08.971587Z"
    },
    "hide_input": false
   },
   "outputs": [
    {
     "data": {
      "image/png": "[encoded data removed]",
      "text/plain": [
       "<Figure size 432x288 with 1 Axes>"
      ]
     },
     "metadata": {},
     "output_type": "display_data"
    }
   ],
   "source": [
    "_ = plt.plot(\"Year\", \"Biology\", data=women_degrees, c=\"b\", label=\"Women\")\n",
    "_ = plt.plot(women_degrees[\"Year\"], 100-women_degrees[\"Biology\"], c=\"g\", label=\"Men\")\n",
    "_ = plt.tick_params(bottom=False, top=False, left=False, right=False)\n",
    "_ = plt.legend(loc=\"upper right\")\n",
    "_ = plt.title(\"Percentage of Biology Degrees Awarded By Gender\")"
   ]
  },
  {
   "cell_type": "markdown",
   "metadata": {},
   "source": [
    "### Hiding Spines\n",
    "\n",
    "- Generate 2 line charts on the same plotting area:\n",
    "    - One that visualizes the percentages of Biology degrees awarded to women over time. Set the line color to \"blue\" and the label to \"Women\".\n",
    "    - One that visualizes the percentages of Biology degrees awarded to men over time. Set the line color to \"green\" and the label to \"Men\".\n",
    "- Remove all of the axis tick marks.\n",
    "- Hide all of the spines.\n",
    "- Set the title of the plot to \"Percentage of Biology Degrees Awarded By Gender\".\n",
    "- Generate a legend and place it in the \"upper right\" location.\n",
    "- Display the chart."
   ]
  },
  {
   "cell_type": "code",
   "execution_count": 63,
   "metadata": {
    "ExecuteTime": {
     "end_time": "2020-12-26T06:27:41.459099Z",
     "start_time": "2020-12-26T06:27:41.300312Z"
    },
    "hide_input": true
   },
   "outputs": [
    {
     "data": {
      "image/png": "[encoded data removed]",
      "text/plain": [
       "<Figure size 432x288 with 1 Axes>"
      ]
     },
     "metadata": {},
     "output_type": "display_data"
    }
   ],
   "source": [
    "fig, ax = plt.subplots()\n",
    "ax.plot(women_degrees['Year'], women_degrees['Biology'], c='blue', label='Women')\n",
    "ax.plot(women_degrees['Year'], 100-women_degrees['Biology'], c='green', label='Men')\n",
    "_ = plt.tick_params(bottom=False, top=False, left=False, right=False)\n",
    "\n",
    "ax.spines[\"bottom\"].set_visible(False)\n",
    "ax.spines[\"top\"].set_visible(False)\n",
    "ax.spines[\"left\"].set_visible(False)\n",
    "ax.spines[\"right\"].set_visible(False)\n",
    "\n",
    "ax.legend(loc='upper right')\n",
    "ax.set_title('Percentage of Biology Degrees Awarded By Gender')\n",
    "plt.show()"
   ]
  },
  {
   "cell_type": "markdown",
   "metadata": {},
   "source": [
    "### Comparing Gender Gap Across Degree Categories\n",
    "- Generate a line chart using the women and men percentages for Biology in the top left subplot.\n",
    "- Generate a line chart using the women and men percentages for Computer Science in the top right subplot.\n",
    "- Generate a line chart using the women and men percentages for Engineering in the bottom left subplot.\n",
    "- Generate a line chart using the women and men percentages for Math and Statistics in the bottom right subplot.\n",
    "- For all subplots:\n",
    "    - For the line chart visualizing female percentages, set the line color to \"blue\" and the label to \"Women\".\n",
    "    - For the line chart visualizing male percentages, set the line color to \"green\" and the label to \"Men\".\n",
    "    - Set the x-axis limit to range from 1968 to 2011.\n",
    "    - Set the y-axis limit to range from 0 to 100.\n",
    "    - Hide all of the spines and tick marks.\n",
    "    - Set the title of each subplot to the name of the major category (e.g. \"Biology\", \"Computer Science\").\n",
    "- Place a legend in the upper right corner of the bottom right subplot.\n",
    "- Display the plot."
   ]
  },
  {
   "cell_type": "code",
   "execution_count": 80,
   "metadata": {
    "ExecuteTime": {
     "end_time": "2020-12-26T06:48:13.832188Z",
     "start_time": "2020-12-26T06:48:13.212851Z"
    },
    "hide_input": true
   },
   "outputs": [
    {
     "data": {
      "image/png": "[encoded data removed]",
      "text/plain": [
       "<Figure size 864x864 with 4 Axes>"
      ]
     },
     "metadata": {},
     "output_type": "display_data"
    }
   ],
   "source": [
    "major_cats = ['Biology', 'Computer Science', 'Engineering', 'Math and Statistics']\n",
    "fig = plt.figure(figsize=(12, 12))\n",
    "\n",
    "for sp in range(0,4):\n",
    "    ax = fig.add_subplot(2,2,sp+1)\n",
    "    ax.plot(women_degrees['Year'], women_degrees[major_cats[sp]], c='blue', label='Women')\n",
    "    ax.plot(women_degrees['Year'], 100-women_degrees[major_cats[sp]], c='green', label='Men')\n",
    "    # Add your code here.\n",
    "    ax.set_xlim(1968, 2011)\n",
    "    ax.set_ylim(0, 100)\n",
    "    ax.tick_params(top=False, bottom=False, left=False, right=False)\n",
    "    [spine.set_visible(False) for key, spine in ax.spines.items()]\n",
    "    ax.set_title(major_cats[sp])\n",
    "        \n",
    "    \n",
    "\n",
    "# Calling pyplot.legend() here will add the legend to the last subplot that was created.\n",
    "plt.legend(loc='upper right')\n",
    "plt.show()"
   ]
  }
 ],
 "metadata": {
  "kernelspec": {
   "display_name": "Python 3",
   "language": "python",
   "name": "python3"
  },
  "language_info": {
   "codemirror_mode": {
    "name": "ipython",
    "version": 3
   },
   "file_extension": ".py",
   "mimetype": "text/x-python",
   "name": "python",
   "nbconvert_exporter": "python",
   "pygments_lexer": "ipython3",
   "version": "3.8.5"
  },
  "toc": {
   "base_numbering": 1,
   "nav_menu": {},
   "number_sections": true,
   "sideBar": true,
   "skip_h1_title": false,
   "title_cell": "Table of Contents",
   "title_sidebar": "Contents",
   "toc_cell": false,
   "toc_position": {},
   "toc_section_display": true,
   "toc_window_display": false
  }
 },
 "nbformat": 4,
 "nbformat_minor": 1
}
